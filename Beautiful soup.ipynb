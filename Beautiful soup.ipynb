{
 "cells": [
  {
   "cell_type": "code",
   "execution_count": 6,
   "metadata": {},
   "outputs": [
    {
     "name": "stdout",
     "output_type": "stream",
     "text": [
      "Requirement already satisfied: bs4 in c:\\users\\negi\\anaconda3\\lib\\site-packages (0.0.1)\n",
      "Requirement already satisfied: beautifulsoup4 in c:\\users\\negi\\anaconda3\\lib\\site-packages (from bs4) (4.9.1)\n",
      "Requirement already satisfied: soupsieve>1.2 in c:\\users\\negi\\anaconda3\\lib\\site-packages (from beautifulsoup4->bs4) (2.0.1)\n"
     ]
    }
   ],
   "source": [
    "!pip install bs4\n",
    "#!pip install requests"
   ]
  },
  {
   "cell_type": "code",
   "execution_count": 7,
   "metadata": {},
   "outputs": [],
   "source": [
    "from bs4 import BeautifulSoup # this module helps in web scrapping.\n",
    "import requests  # this module helps us to download a web page"
   ]
  },
  {
   "cell_type": "code",
   "execution_count": 5,
   "metadata": {},
   "outputs": [],
   "source": [
    "html=\"<!DOCTYPE html><html><head><title>Page Title</title></head><body><h3><b id='boldest'>Lebron James</b></h3><p> Salary: $ 92,000,000 </p><h3> Stephen Curry</h3><p> Salary: $85,000, 000 </p><h3> Kevin Durant </h3><p> Salary: $73,200, 000</p></body></html>\""
   ]
  },
  {
   "cell_type": "code",
   "execution_count": 6,
   "metadata": {},
   "outputs": [],
   "source": [
    "soup = BeautifulSoup(html, 'html5lib')"
   ]
  },
  {
   "cell_type": "code",
   "execution_count": 7,
   "metadata": {},
   "outputs": [
    {
     "data": {
      "text/plain": [
       "<!DOCTYPE html>\n",
       "<html><head><title>Page Title</title></head><body><h3><b id=\"boldest\">Lebron James</b></h3><p> Salary: $ 92,000,000 </p><h3> Stephen Curry</h3><p> Salary: $85,000, 000 </p><h3> Kevin Durant </h3><p> Salary: $73,200, 000</p></body></html>"
      ]
     },
     "execution_count": 7,
     "metadata": {},
     "output_type": "execute_result"
    }
   ],
   "source": [
    "soup"
   ]
  },
  {
   "cell_type": "code",
   "execution_count": 8,
   "metadata": {},
   "outputs": [
    {
     "name": "stdout",
     "output_type": "stream",
     "text": [
      "<!DOCTYPE html>\n",
      "<html>\n",
      " <head>\n",
      "  <title>\n",
      "   Page Title\n",
      "  </title>\n",
      " </head>\n",
      " <body>\n",
      "  <h3>\n",
      "   <b id=\"boldest\">\n",
      "    Lebron James\n",
      "   </b>\n",
      "  </h3>\n",
      "  <p>\n",
      "   Salary: $ 92,000,000\n",
      "  </p>\n",
      "  <h3>\n",
      "   Stephen Curry\n",
      "  </h3>\n",
      "  <p>\n",
      "   Salary: $85,000, 000\n",
      "  </p>\n",
      "  <h3>\n",
      "   Kevin Durant\n",
      "  </h3>\n",
      "  <p>\n",
      "   Salary: $73,200, 000\n",
      "  </p>\n",
      " </body>\n",
      "</html>\n"
     ]
    }
   ],
   "source": [
    "print(soup.prettify())"
   ]
  },
  {
   "cell_type": "code",
   "execution_count": 9,
   "metadata": {},
   "outputs": [
    {
     "name": "stdout",
     "output_type": "stream",
     "text": [
      "tag object: <title>Page Title</title>\n"
     ]
    }
   ],
   "source": [
    "tag_object=soup.title\n",
    "print(\"tag object:\",tag_object)"
   ]
  },
  {
   "cell_type": "code",
   "execution_count": 10,
   "metadata": {},
   "outputs": [
    {
     "name": "stdout",
     "output_type": "stream",
     "text": [
      "tag object type: <class 'bs4.element.Tag'>\n"
     ]
    }
   ],
   "source": [
    "print(\"tag object type:\",type(tag_object))"
   ]
  },
  {
   "cell_type": "code",
   "execution_count": 11,
   "metadata": {},
   "outputs": [
    {
     "data": {
      "text/plain": [
       "<h3><b id=\"boldest\">Lebron James</b></h3>"
      ]
     },
     "execution_count": 11,
     "metadata": {},
     "output_type": "execute_result"
    }
   ],
   "source": [
    "tag_object=soup.h3\n",
    "tag_object"
   ]
  },
  {
   "cell_type": "code",
   "execution_count": 12,
   "metadata": {},
   "outputs": [
    {
     "data": {
      "text/plain": [
       "<b id=\"boldest\">Lebron James</b>"
      ]
     },
     "execution_count": 12,
     "metadata": {},
     "output_type": "execute_result"
    }
   ],
   "source": [
    "tag_child =tag_object.b\n",
    "tag_child"
   ]
  },
  {
   "cell_type": "code",
   "execution_count": 13,
   "metadata": {},
   "outputs": [
    {
     "data": {
      "text/plain": [
       "<h3><b id=\"boldest\">Lebron James</b></h3>"
      ]
     },
     "execution_count": 13,
     "metadata": {},
     "output_type": "execute_result"
    }
   ],
   "source": [
    "parent_tag=tag_child.parent\n",
    "parent_tag"
   ]
  },
  {
   "cell_type": "code",
   "execution_count": 14,
   "metadata": {},
   "outputs": [
    {
     "data": {
      "text/plain": [
       "<h3><b id=\"boldest\">Lebron James</b></h3>"
      ]
     },
     "execution_count": 14,
     "metadata": {},
     "output_type": "execute_result"
    }
   ],
   "source": [
    "tag_object"
   ]
  },
  {
   "cell_type": "code",
   "execution_count": 15,
   "metadata": {},
   "outputs": [
    {
     "data": {
      "text/plain": [
       "<body><h3><b id=\"boldest\">Lebron James</b></h3><p> Salary: $ 92,000,000 </p><h3> Stephen Curry</h3><p> Salary: $85,000, 000 </p><h3> Kevin Durant </h3><p> Salary: $73,200, 000</p></body>"
      ]
     },
     "execution_count": 15,
     "metadata": {},
     "output_type": "execute_result"
    }
   ],
   "source": [
    "tag_object.parent"
   ]
  },
  {
   "cell_type": "code",
   "execution_count": 16,
   "metadata": {},
   "outputs": [
    {
     "data": {
      "text/plain": [
       "<p> Salary: $ 92,000,000 </p>"
      ]
     },
     "execution_count": 16,
     "metadata": {},
     "output_type": "execute_result"
    }
   ],
   "source": [
    "sibling_1=tag_object.next_sibling\n",
    "sibling_1"
   ]
  },
  {
   "cell_type": "code",
   "execution_count": 17,
   "metadata": {},
   "outputs": [
    {
     "data": {
      "text/plain": [
       "<h3> Stephen Curry</h3>"
      ]
     },
     "execution_count": 17,
     "metadata": {},
     "output_type": "execute_result"
    }
   ],
   "source": [
    "sibling_2=sibling_1.next_sibling\n",
    "sibling_2\n"
   ]
  },
  {
   "cell_type": "code",
   "execution_count": 18,
   "metadata": {},
   "outputs": [
    {
     "data": {
      "text/plain": [
       "<p> Salary: $85,000, 000 </p>"
      ]
     },
     "execution_count": 18,
     "metadata": {},
     "output_type": "execute_result"
    }
   ],
   "source": [
    "salary = sibling_2.next_sibling\n",
    "salary"
   ]
  },
  {
   "cell_type": "code",
   "execution_count": 19,
   "metadata": {},
   "outputs": [
    {
     "data": {
      "text/plain": [
       "'boldest'"
      ]
     },
     "execution_count": 19,
     "metadata": {},
     "output_type": "execute_result"
    }
   ],
   "source": [
    "tag_child['id']"
   ]
  },
  {
   "cell_type": "code",
   "execution_count": 20,
   "metadata": {},
   "outputs": [
    {
     "data": {
      "text/plain": [
       "{'id': 'boldest'}"
      ]
     },
     "execution_count": 20,
     "metadata": {},
     "output_type": "execute_result"
    }
   ],
   "source": [
    "tag_child.attrs"
   ]
  },
  {
   "cell_type": "code",
   "execution_count": 21,
   "metadata": {},
   "outputs": [
    {
     "data": {
      "text/plain": [
       "'boldest'"
      ]
     },
     "execution_count": 21,
     "metadata": {},
     "output_type": "execute_result"
    }
   ],
   "source": [
    "tag_child.get('id')"
   ]
  },
  {
   "cell_type": "code",
   "execution_count": 22,
   "metadata": {},
   "outputs": [
    {
     "data": {
      "text/plain": [
       "'Lebron James'"
      ]
     },
     "execution_count": 22,
     "metadata": {},
     "output_type": "execute_result"
    }
   ],
   "source": [
    "tag_string=tag_child.string\n",
    "tag_string"
   ]
  },
  {
   "cell_type": "code",
   "execution_count": 23,
   "metadata": {},
   "outputs": [
    {
     "data": {
      "text/plain": [
       "<b id=\"boldest\">Lebron James</b>"
      ]
     },
     "execution_count": 23,
     "metadata": {},
     "output_type": "execute_result"
    }
   ],
   "source": [
    "tag_child"
   ]
  },
  {
   "cell_type": "code",
   "execution_count": 24,
   "metadata": {},
   "outputs": [
    {
     "data": {
      "text/plain": [
       "'Lebron James'"
      ]
     },
     "execution_count": 24,
     "metadata": {},
     "output_type": "execute_result"
    }
   ],
   "source": [
    "unicode_string = str(tag_string)\n",
    "unicode_string"
   ]
  },
  {
   "cell_type": "code",
   "execution_count": 25,
   "metadata": {},
   "outputs": [],
   "source": [
    "table=\"<table><tr><td id='flight'>Flight No</td><td>Launch site</td> <td>Payload mass</td></tr><tr> <td>1</td><td><a href='https://en.wikipedia.org/wiki/Florida'>Florida<a></td><td>300 kg</td></tr><tr><td>2</td><td><a href='https://en.wikipedia.org/wiki/Texas'>Texas</a></td><td>94 kg</td></tr><tr><td>3</td><td><a href='https://en.wikipedia.org/wiki/Florida'>Florida<a> </td><td>80 kg</td></tr></table>\""
   ]
  },
  {
   "cell_type": "code",
   "execution_count": 26,
   "metadata": {},
   "outputs": [],
   "source": [
    "table_bs = BeautifulSoup(table, 'html5lib')"
   ]
  },
  {
   "cell_type": "code",
   "execution_count": 27,
   "metadata": {},
   "outputs": [
    {
     "data": {
      "text/plain": [
       "[<tr><td id=\"flight\">Flight No</td><td>Launch site</td> <td>Payload mass</td></tr>,\n",
       " <tr> <td>1</td><td><a href=\"https://en.wikipedia.org/wiki/Florida\">Florida</a><a></a></td><td>300 kg</td></tr>,\n",
       " <tr><td>2</td><td><a href=\"https://en.wikipedia.org/wiki/Texas\">Texas</a></td><td>94 kg</td></tr>,\n",
       " <tr><td>3</td><td><a href=\"https://en.wikipedia.org/wiki/Florida\">Florida</a><a> </a></td><td>80 kg</td></tr>]"
      ]
     },
     "execution_count": 27,
     "metadata": {},
     "output_type": "execute_result"
    }
   ],
   "source": [
    "table_rows=table_bs.find_all('tr')\n",
    "table_rows"
   ]
  },
  {
   "cell_type": "code",
   "execution_count": 28,
   "metadata": {},
   "outputs": [
    {
     "data": {
      "text/plain": [
       "<tr><td id=\"flight\">Flight No</td><td>Launch site</td> <td>Payload mass</td></tr>"
      ]
     },
     "execution_count": 28,
     "metadata": {},
     "output_type": "execute_result"
    }
   ],
   "source": [
    "first_row =table_rows[0]\n",
    "first_row"
   ]
  },
  {
   "cell_type": "code",
   "execution_count": 29,
   "metadata": {},
   "outputs": [
    {
     "name": "stdout",
     "output_type": "stream",
     "text": [
      "<class 'bs4.element.Tag'>\n"
     ]
    }
   ],
   "source": [
    "print(type(first_row))"
   ]
  },
  {
   "cell_type": "code",
   "execution_count": 30,
   "metadata": {},
   "outputs": [
    {
     "data": {
      "text/plain": [
       "<td id=\"flight\">Flight No</td>"
      ]
     },
     "execution_count": 30,
     "metadata": {},
     "output_type": "execute_result"
    }
   ],
   "source": [
    "first_row.td"
   ]
  },
  {
   "cell_type": "code",
   "execution_count": 31,
   "metadata": {},
   "outputs": [
    {
     "name": "stdout",
     "output_type": "stream",
     "text": [
      "row 0 is <tr><td id=\"flight\">Flight No</td><td>Launch site</td> <td>Payload mass</td></tr>\n",
      "row 1 is <tr> <td>1</td><td><a href=\"https://en.wikipedia.org/wiki/Florida\">Florida</a><a></a></td><td>300 kg</td></tr>\n",
      "row 2 is <tr><td>2</td><td><a href=\"https://en.wikipedia.org/wiki/Texas\">Texas</a></td><td>94 kg</td></tr>\n",
      "row 3 is <tr><td>3</td><td><a href=\"https://en.wikipedia.org/wiki/Florida\">Florida</a><a> </a></td><td>80 kg</td></tr>\n"
     ]
    }
   ],
   "source": [
    "for i,row in enumerate(table_rows):\n",
    "    print(\"row\",i,\"is\",row)\n",
    "    "
   ]
  },
  {
   "cell_type": "code",
   "execution_count": 32,
   "metadata": {},
   "outputs": [
    {
     "name": "stdout",
     "output_type": "stream",
     "text": [
      "row 0\n",
      "colunm 0 cell <td id=\"flight\">Flight No</td>\n",
      "colunm 1 cell <td>Launch site</td>\n",
      "colunm 2 cell <td>Payload mass</td>\n",
      "row 1\n",
      "colunm 0 cell <td>1</td>\n",
      "colunm 1 cell <td><a href=\"https://en.wikipedia.org/wiki/Florida\">Florida</a><a></a></td>\n",
      "colunm 2 cell <td>300 kg</td>\n",
      "row 2\n",
      "colunm 0 cell <td>2</td>\n",
      "colunm 1 cell <td><a href=\"https://en.wikipedia.org/wiki/Texas\">Texas</a></td>\n",
      "colunm 2 cell <td>94 kg</td>\n",
      "row 3\n",
      "colunm 0 cell <td>3</td>\n",
      "colunm 1 cell <td><a href=\"https://en.wikipedia.org/wiki/Florida\">Florida</a><a> </a></td>\n",
      "colunm 2 cell <td>80 kg</td>\n"
     ]
    }
   ],
   "source": [
    "for i,row in enumerate(table_rows):\n",
    "    print(\"row\",i)\n",
    "    cells=row.find_all('td')\n",
    "    for j,cell in enumerate(cells):\n",
    "        print('colunm',j,\"cell\",cell)"
   ]
  },
  {
   "cell_type": "code",
   "execution_count": 33,
   "metadata": {},
   "outputs": [
    {
     "data": {
      "text/plain": [
       "[<tr><td id=\"flight\">Flight No</td><td>Launch site</td> <td>Payload mass</td></tr>,\n",
       " <td id=\"flight\">Flight No</td>,\n",
       " <td>Launch site</td>,\n",
       " <td>Payload mass</td>,\n",
       " <tr> <td>1</td><td><a href=\"https://en.wikipedia.org/wiki/Florida\">Florida</a><a></a></td><td>300 kg</td></tr>,\n",
       " <td>1</td>,\n",
       " <td><a href=\"https://en.wikipedia.org/wiki/Florida\">Florida</a><a></a></td>,\n",
       " <td>300 kg</td>,\n",
       " <tr><td>2</td><td><a href=\"https://en.wikipedia.org/wiki/Texas\">Texas</a></td><td>94 kg</td></tr>,\n",
       " <td>2</td>,\n",
       " <td><a href=\"https://en.wikipedia.org/wiki/Texas\">Texas</a></td>,\n",
       " <td>94 kg</td>,\n",
       " <tr><td>3</td><td><a href=\"https://en.wikipedia.org/wiki/Florida\">Florida</a><a> </a></td><td>80 kg</td></tr>,\n",
       " <td>3</td>,\n",
       " <td><a href=\"https://en.wikipedia.org/wiki/Florida\">Florida</a><a> </a></td>,\n",
       " <td>80 kg</td>]"
      ]
     },
     "execution_count": 33,
     "metadata": {},
     "output_type": "execute_result"
    }
   ],
   "source": [
    "list_input=table_bs .find_all(name=[\"tr\", \"td\"])\n",
    "list_input"
   ]
  },
  {
   "cell_type": "code",
   "execution_count": 34,
   "metadata": {},
   "outputs": [
    {
     "data": {
      "text/plain": [
       "[<td id=\"flight\">Flight No</td>]"
      ]
     },
     "execution_count": 34,
     "metadata": {},
     "output_type": "execute_result"
    }
   ],
   "source": [
    "table_bs.find_all(id=\"flight\")"
   ]
  },
  {
   "cell_type": "code",
   "execution_count": 35,
   "metadata": {},
   "outputs": [
    {
     "data": {
      "text/plain": [
       "[<a href=\"https://en.wikipedia.org/wiki/Florida\">Florida</a>,\n",
       " <a href=\"https://en.wikipedia.org/wiki/Florida\">Florida</a>]"
      ]
     },
     "execution_count": 35,
     "metadata": {},
     "output_type": "execute_result"
    }
   ],
   "source": [
    "list_input=table_bs.find_all(href=\"https://en.wikipedia.org/wiki/Florida\")\n",
    "list_input"
   ]
  },
  {
   "cell_type": "code",
   "execution_count": 36,
   "metadata": {},
   "outputs": [
    {
     "data": {
      "text/plain": [
       "[<a href=\"https://en.wikipedia.org/wiki/Florida\">Florida</a>,\n",
       " <a href=\"https://en.wikipedia.org/wiki/Texas\">Texas</a>,\n",
       " <a href=\"https://en.wikipedia.org/wiki/Florida\">Florida</a>]"
      ]
     },
     "execution_count": 36,
     "metadata": {},
     "output_type": "execute_result"
    }
   ],
   "source": [
    "table_bs.find_all(href=True)"
   ]
  },
  {
   "cell_type": "code",
   "execution_count": 37,
   "metadata": {},
   "outputs": [
    {
     "data": {
      "text/plain": [
       "[<html><head></head><body><table><tbody><tr><td id=\"flight\">Flight No</td><td>Launch site</td> <td>Payload mass</td></tr><tr> <td>1</td><td><a href=\"https://en.wikipedia.org/wiki/Florida\">Florida</a><a></a></td><td>300 kg</td></tr><tr><td>2</td><td><a href=\"https://en.wikipedia.org/wiki/Texas\">Texas</a></td><td>94 kg</td></tr><tr><td>3</td><td><a href=\"https://en.wikipedia.org/wiki/Florida\">Florida</a><a> </a></td><td>80 kg</td></tr></tbody></table></body></html>,\n",
       " <head></head>,\n",
       " <body><table><tbody><tr><td id=\"flight\">Flight No</td><td>Launch site</td> <td>Payload mass</td></tr><tr> <td>1</td><td><a href=\"https://en.wikipedia.org/wiki/Florida\">Florida</a><a></a></td><td>300 kg</td></tr><tr><td>2</td><td><a href=\"https://en.wikipedia.org/wiki/Texas\">Texas</a></td><td>94 kg</td></tr><tr><td>3</td><td><a href=\"https://en.wikipedia.org/wiki/Florida\">Florida</a><a> </a></td><td>80 kg</td></tr></tbody></table></body>,\n",
       " <table><tbody><tr><td id=\"flight\">Flight No</td><td>Launch site</td> <td>Payload mass</td></tr><tr> <td>1</td><td><a href=\"https://en.wikipedia.org/wiki/Florida\">Florida</a><a></a></td><td>300 kg</td></tr><tr><td>2</td><td><a href=\"https://en.wikipedia.org/wiki/Texas\">Texas</a></td><td>94 kg</td></tr><tr><td>3</td><td><a href=\"https://en.wikipedia.org/wiki/Florida\">Florida</a><a> </a></td><td>80 kg</td></tr></tbody></table>,\n",
       " <tbody><tr><td id=\"flight\">Flight No</td><td>Launch site</td> <td>Payload mass</td></tr><tr> <td>1</td><td><a href=\"https://en.wikipedia.org/wiki/Florida\">Florida</a><a></a></td><td>300 kg</td></tr><tr><td>2</td><td><a href=\"https://en.wikipedia.org/wiki/Texas\">Texas</a></td><td>94 kg</td></tr><tr><td>3</td><td><a href=\"https://en.wikipedia.org/wiki/Florida\">Florida</a><a> </a></td><td>80 kg</td></tr></tbody>,\n",
       " <tr><td id=\"flight\">Flight No</td><td>Launch site</td> <td>Payload mass</td></tr>,\n",
       " <td id=\"flight\">Flight No</td>,\n",
       " <td>Launch site</td>,\n",
       " <td>Payload mass</td>,\n",
       " <tr> <td>1</td><td><a href=\"https://en.wikipedia.org/wiki/Florida\">Florida</a><a></a></td><td>300 kg</td></tr>,\n",
       " <td>1</td>,\n",
       " <td><a href=\"https://en.wikipedia.org/wiki/Florida\">Florida</a><a></a></td>,\n",
       " <a></a>,\n",
       " <td>300 kg</td>,\n",
       " <tr><td>2</td><td><a href=\"https://en.wikipedia.org/wiki/Texas\">Texas</a></td><td>94 kg</td></tr>,\n",
       " <td>2</td>,\n",
       " <td><a href=\"https://en.wikipedia.org/wiki/Texas\">Texas</a></td>,\n",
       " <td>94 kg</td>,\n",
       " <tr><td>3</td><td><a href=\"https://en.wikipedia.org/wiki/Florida\">Florida</a><a> </a></td><td>80 kg</td></tr>,\n",
       " <td>3</td>,\n",
       " <td><a href=\"https://en.wikipedia.org/wiki/Florida\">Florida</a><a> </a></td>,\n",
       " <a> </a>,\n",
       " <td>80 kg</td>]"
      ]
     },
     "execution_count": 37,
     "metadata": {},
     "output_type": "execute_result"
    }
   ],
   "source": [
    "table_bs.find_all(href=False)"
   ]
  },
  {
   "cell_type": "code",
   "execution_count": 40,
   "metadata": {},
   "outputs": [
    {
     "data": {
      "text/plain": [
       "[<b id=\"boldest\">Lebron James</b>]"
      ]
     },
     "execution_count": 40,
     "metadata": {},
     "output_type": "execute_result"
    }
   ],
   "source": [
    "soup.find_all(id=\"boldest\")"
   ]
  },
  {
   "cell_type": "code",
   "execution_count": 41,
   "metadata": {},
   "outputs": [
    {
     "data": {
      "text/plain": [
       "['Florida', 'Florida']"
      ]
     },
     "execution_count": 41,
     "metadata": {},
     "output_type": "execute_result"
    }
   ],
   "source": [
    "table_bs.find_all(string=\"Florida\")"
   ]
  },
  {
   "cell_type": "code",
   "execution_count": 42,
   "metadata": {},
   "outputs": [
    {
     "data": {
      "text/html": [
       "<h3>Rocket Launch </h3>\n",
       "\n",
       "<p>\n",
       "<table class='rocket'>\n",
       "  <tr>\n",
       "    <td>Flight No</td>\n",
       "    <td>Launch site</td> \n",
       "    <td>Payload mass</td>\n",
       "  </tr>\n",
       "  <tr>\n",
       "    <td>1</td>\n",
       "    <td>Florida</td>\n",
       "    <td>300 kg</td>\n",
       "  </tr>\n",
       "  <tr>\n",
       "    <td>2</td>\n",
       "    <td>Texas</td>\n",
       "    <td>94 kg</td>\n",
       "  </tr>\n",
       "  <tr>\n",
       "    <td>3</td>\n",
       "    <td>Florida </td>\n",
       "    <td>80 kg</td>\n",
       "  </tr>\n",
       "</table>\n",
       "</p>\n",
       "<p>\n",
       "\n",
       "<h3>Pizza Party  </h3>\n",
       "  \n",
       "    \n",
       "<table class='pizza'>\n",
       "  <tr>\n",
       "    <td>Pizza Place</td>\n",
       "    <td>Orders</td> \n",
       "    <td>Slices </td>\n",
       "   </tr>\n",
       "  <tr>\n",
       "    <td>Domino's Pizza</td>\n",
       "    <td>10</td>\n",
       "    <td>100</td>\n",
       "  </tr>\n",
       "  <tr>\n",
       "    <td>Little Caesars</td>\n",
       "    <td>12</td>\n",
       "    <td >144 </td>\n",
       "  </tr>\n",
       "  <tr>\n",
       "    <td>Papa John's </td>\n",
       "    <td>15 </td>\n",
       "    <td>165</td>\n",
       "  </tr>\n"
      ],
      "text/plain": [
       "<IPython.core.display.HTML object>"
      ]
     },
     "metadata": {},
     "output_type": "display_data"
    }
   ],
   "source": [
    "%%html\n",
    "<h3>Rocket Launch </h3>\n",
    "\n",
    "<p>\n",
    "<table class='rocket'>\n",
    "  <tr>\n",
    "    <td>Flight No</td>\n",
    "    <td>Launch site</td> \n",
    "    <td>Payload mass</td>\n",
    "  </tr>\n",
    "  <tr>\n",
    "    <td>1</td>\n",
    "    <td>Florida</td>\n",
    "    <td>300 kg</td>\n",
    "  </tr>\n",
    "  <tr>\n",
    "    <td>2</td>\n",
    "    <td>Texas</td>\n",
    "    <td>94 kg</td>\n",
    "  </tr>\n",
    "  <tr>\n",
    "    <td>3</td>\n",
    "    <td>Florida </td>\n",
    "    <td>80 kg</td>\n",
    "  </tr>\n",
    "</table>\n",
    "</p>\n",
    "<p>\n",
    "\n",
    "<h3>Pizza Party  </h3>\n",
    "  \n",
    "    \n",
    "<table class='pizza'>\n",
    "  <tr>\n",
    "    <td>Pizza Place</td>\n",
    "    <td>Orders</td> \n",
    "    <td>Slices </td>\n",
    "   </tr>\n",
    "  <tr>\n",
    "    <td>Domino's Pizza</td>\n",
    "    <td>10</td>\n",
    "    <td>100</td>\n",
    "  </tr>\n",
    "  <tr>\n",
    "    <td>Little Caesars</td>\n",
    "    <td>12</td>\n",
    "    <td >144 </td>\n",
    "  </tr>\n",
    "  <tr>\n",
    "    <td>Papa John's </td>\n",
    "    <td>15 </td>\n",
    "    <td>165</td>\n",
    "  </tr>\n"
   ]
  },
  {
   "cell_type": "code",
   "execution_count": 43,
   "metadata": {},
   "outputs": [],
   "source": [
    "two_tables=\"<h3>Rocket Launch </h3><p><table class='rocket'><tr><td>Flight No</td><td>Launch site</td> <td>Payload mass</td></tr><tr><td>1</td><td>Florida</td><td>300 kg</td></tr><tr><td>2</td><td>Texas</td><td>94 kg</td></tr><tr><td>3</td><td>Florida </td><td>80 kg</td></tr></table></p><p><h3>Pizza Party  </h3><table class='pizza'><tr><td>Pizza Place</td><td>Orders</td> <td>Slices </td></tr><tr><td>Domino's Pizza</td><td>10</td><td>100</td></tr><tr><td>Little Caesars</td><td>12</td><td >144 </td></tr><tr><td>Papa John's </td><td>15 </td><td>165</td></tr>\""
   ]
  },
  {
   "cell_type": "code",
   "execution_count": 44,
   "metadata": {},
   "outputs": [],
   "source": [
    "two_tables_bs = BeautifulSoup(two_tables, 'html.parser')"
   ]
  },
  {
   "cell_type": "code",
   "execution_count": 45,
   "metadata": {},
   "outputs": [
    {
     "data": {
      "text/plain": [
       "<table class=\"rocket\"><tr><td>Flight No</td><td>Launch site</td> <td>Payload mass</td></tr><tr><td>1</td><td>Florida</td><td>300 kg</td></tr><tr><td>2</td><td>Texas</td><td>94 kg</td></tr><tr><td>3</td><td>Florida </td><td>80 kg</td></tr></table>"
      ]
     },
     "execution_count": 45,
     "metadata": {},
     "output_type": "execute_result"
    }
   ],
   "source": [
    "two_tables_bs.find(\"table\")"
   ]
  },
  {
   "cell_type": "code",
   "execution_count": 46,
   "metadata": {},
   "outputs": [
    {
     "data": {
      "text/plain": [
       "<table class=\"pizza\"><tr><td>Pizza Place</td><td>Orders</td> <td>Slices </td></tr><tr><td>Domino's Pizza</td><td>10</td><td>100</td></tr><tr><td>Little Caesars</td><td>12</td><td>144 </td></tr><tr><td>Papa John's </td><td>15 </td><td>165</td></tr></table>"
      ]
     },
     "execution_count": 46,
     "metadata": {},
     "output_type": "execute_result"
    }
   ],
   "source": [
    "two_tables_bs.find(\"table\", class_='pizza')"
   ]
  },
  {
   "cell_type": "code",
   "execution_count": 49,
   "metadata": {},
   "outputs": [],
   "source": [
    "url = \"http://www.ibm.com\""
   ]
  },
  {
   "cell_type": "code",
   "execution_count": 51,
   "metadata": {},
   "outputs": [],
   "source": [
    "data = requests.get(url).text"
   ]
  },
  {
   "cell_type": "raw",
   "metadata": {},
   "source": [
    "url2 = \"http://https://fantasy.premierleague.com\""
   ]
  },
  {
   "cell_type": "code",
   "execution_count": 52,
   "metadata": {},
   "outputs": [],
   "source": [
    "url2 = \"http://https://fantasy.premierleague.com\""
   ]
  },
  {
   "cell_type": "code",
   "execution_count": 53,
   "metadata": {},
   "outputs": [],
   "source": [
    "data2 = requests.get(url).text"
   ]
  },
  {
   "cell_type": "code",
   "execution_count": 54,
   "metadata": {},
   "outputs": [],
   "source": [
    "soup = BeautifulSoup(data, \"html5lib\")"
   ]
  },
  {
   "cell_type": "code",
   "execution_count": 57,
   "metadata": {},
   "outputs": [
    {
     "name": "stdout",
     "output_type": "stream",
     "text": [
      "https://www.ibm.com/in/en\n",
      "https://www.ibm.com/sitemap/in/en\n",
      "/in-en/security/zero-trust\n",
      "/in-en/about\n",
      "https://www.ibm.com/downloads/cas/YW89KW7E?lnk=inhpv11\n",
      "https://developer.ibm.com/callforcode/?utm_medium=OSocial&utm_source=Blog&utm_content=000031SE&utm_term=10008401&utm_id=Homepage-inside\n",
      "https://www.ibm.com/blogs/journey-to-ai/2021/03/ibm-is-named-a-leader-2021-magic-quadrant-for-data-science-and-machine-learning-platforms/\n",
      "/in-en/events/cloud-podcasts\n",
      "https://www.ibm.com/account/reg/signup?formid=urx-49364\n",
      "https://www.ibm.com/training/cloud?lnk=inhpv2\n",
      "/in-en/products/offers-and-discounts\n",
      "/in-en/cloud/free\n",
      "https://www.ibm.com/account/reg/signup?formid=urx-46597&lnk=STW_IN_HP_T2_BLK&psrc=NONE&pexp=DEF&lnk2=trial_RoboticProcess\n",
      "/in-en/products/cloud-pak-for-data\n",
      "/products/digital-learning-subscription/pricing?lnk=STW_IN_HP_T5_BLK&psrc=NONE&pexp=DEF&lnk2=trial_training\n",
      "/in-en/security/identity-access-management/cloud-identity\n",
      "/in-en/cloud/aspera\n",
      "https://developer.ibm.com/depmodels/cloud/?lnk=hpv18ct16\n",
      "https://developer.ibm.com/technologies/artificial-intelligence?lnk=hpv18ct19\n",
      "https://www.ibm.com/demos/?lnk=hpv18ct12\n",
      "https://developer.ibm.com/?lnk=hpv18ct9\n",
      "https://www.ibm.com/docs/en?lnk=hpv18ct14\n",
      "https://www.redbooks.ibm.com/?lnk=ushpv18ct10\n",
      "https://www.ibm.com/support/home/?lnk=hpv18ct11\n",
      "https://www.ibm.com/training/?lnk=hpv18ct15\n",
      "/in-en/cloud/hybrid?lnk=inhpv18pt1\n",
      "/cloud/learn/public-cloud?lnk=inhpv18pt2\n",
      "/in-en/watson?lnk=inhpv18pt3\n",
      "/in-en/garage?lnk=inhpv18pt4\n",
      "/in-en/blockchain?lnk=inhpv18pt5\n",
      "https://www.ibm.com/thought-leadership/institute-business-value/?lnk=inhpv18pt6\n",
      "/in-en/analytics?lnk=inhpv18pt7\n",
      "/in-en/security?lnk=inhpv18pt8\n",
      "/in-en/financing?lnk=inhpv18pt9\n",
      "/in-en/cloud/redhat?lnk=hpv18ct1\n",
      "/in-en/cloud/automation?lnk=hpv18ct2\n",
      "/in-en/cloud/satellite?lnk=hpv18ct3\n",
      "/in-en/it-infrastructure?lnk=hpv18ct4\n",
      "https://www.ibm.com/quantum-computing?lnk=hpv18ct5\n",
      "/in-en/cloud/learn/kubernetes?lnk=ushpv18ct8?lnk=hpv18ct6\n",
      "/in-en/products/spss-statistics?lnk=ushpv18ct7\n",
      "/in-en/blockchain?lnk=hpv18ct8\n",
      "https://www.ibm.com/in-en/employment?lnk=hpv18ct2\n",
      "https://www.ibm.com/case-studies/federal-bank/?lnk=hpv18cs1\n",
      "/case-studies/search?lnk=hpv18cs2\n",
      "#\n"
     ]
    }
   ],
   "source": [
    "for link in soup.find_all('a',href=True):  # in html anchor/link is represented by the tag <a>\n",
    "\n",
    "    print(link.get('href'))"
   ]
  },
  {
   "cell_type": "code",
   "execution_count": 60,
   "metadata": {},
   "outputs": [
    {
     "name": "stdout",
     "output_type": "stream",
     "text": [
      "<img alt=\"A woman wearing mask while working\" class=\"\" loading=\"lazy\" src=\"//1.cms.s81c.com/sites/default/files/2021-05-26/Small-rbf07708.jpg\"/>\n",
      "//1.cms.s81c.com/sites/default/files/2021-05-26/Small-rbf07708.jpg\n",
      "<img alt=\"a green field\" class=\"\" loading=\"lazy\" src=\"//1.cms.s81c.com/sites/default/files/2021-05-02/Original-CFC-444x320%20%281%29.jpg\"/>\n",
      "//1.cms.s81c.com/sites/default/files/2021-05-02/Original-CFC-444x320%20%281%29.jpg\n",
      "<img alt=\"A leader climbing stairs\" class=\"\" loading=\"lazy\" src=\"//1.cms.s81c.com/sites/default/files/2021-03-26/cc%20%281%29.jpg\"/>\n",
      "//1.cms.s81c.com/sites/default/files/2021-03-26/cc%20%281%29.jpg\n",
      "<img alt=\"a mic for recording\" class=\"\" loading=\"lazy\" src=\"//1.cms.s81c.com/sites/default/files/2021-03-26/Logo-Lockup-444-w-x-320h-px.jpg\"/>\n",
      "//1.cms.s81c.com/sites/default/files/2021-03-26/Logo-Lockup-444-w-x-320h-px.jpg\n",
      "<img alt=\"night view of the earth\" class=\"\" loading=\"lazy\" src=\"//1.cms.s81c.com/sites/default/files/2021-03-26/20210301-xforce-threat-intelligence-444x320%20%281%29.png\"/>\n",
      "//1.cms.s81c.com/sites/default/files/2021-03-26/20210301-xforce-threat-intelligence-444x320%20%281%29.png\n",
      "<img alt=\"A woman with a laptop\" class=\"\" loading=\"lazy\" src=\"//1.cms.s81c.com/sites/default/files/2021-04-30/cq5dam.web_.1280.1280.jpeg\"/>\n",
      "//1.cms.s81c.com/sites/default/files/2021-04-30/cq5dam.web_.1280.1280.jpeg\n",
      "<img alt=\"screenshot of the IBM Cloud dashboard\" class=\"\" loading=\"lazy\" src=\"//1.cms.s81c.com/sites/default/files/2021-04-07/ibm-cloud-trial.png\"/>\n",
      "//1.cms.s81c.com/sites/default/files/2021-04-07/ibm-cloud-trial.png\n",
      "<img alt=\"Screenshot of IBM RPA\" class=\"\" loading=\"lazy\" src=\"//1.cms.s81c.com/sites/default/files/2021-04-09/robotic-process-automation.png\"/>\n",
      "//1.cms.s81c.com/sites/default/files/2021-04-09/robotic-process-automation.png\n",
      "<img alt=\"Cloud pak for data screenshot\" class=\"\" loading=\"lazy\" src=\"//1.cms.s81c.com/sites/default/files/2021-04-07/cloud-pak-for-data-trial.png\"/>\n",
      "//1.cms.s81c.com/sites/default/files/2021-04-07/cloud-pak-for-data-trial.png\n",
      "<img alt=\"Screenshot of learning subscription\" class=\"\" loading=\"lazy\" src=\"//1.cms.s81c.com/sites/default/files/2021-04-30/Digital-Learning-Subscription-trial.png\"/>\n",
      "//1.cms.s81c.com/sites/default/files/2021-04-30/Digital-Learning-Subscription-trial.png\n",
      "<img alt=\"screenshot of security-verify-trial\" class=\"\" loading=\"lazy\" src=\"//1.cms.s81c.com/sites/default/files/2021-04-27/security-verify-trial%20%281%29.png\"/>\n",
      "//1.cms.s81c.com/sites/default/files/2021-04-27/security-verify-trial%20%281%29.png\n",
      "<img alt=\"screenshot of IBM aspera\" class=\"\" loading=\"lazy\" src=\"//1.cms.s81c.com/sites/default/files/2021-04-27/Aspera-on-Cloud-19783-700x420.png\"/>\n",
      "//1.cms.s81c.com/sites/default/files/2021-04-27/Aspera-on-Cloud-19783-700x420.png\n"
     ]
    }
   ],
   "source": [
    "for link in soup.find_all('img'):\n",
    "    print(link)\n",
    "    print(link.get('src'))"
   ]
  },
  {
   "cell_type": "code",
   "execution_count": 4,
   "metadata": {},
   "outputs": [],
   "source": [
    "#The below url contains an html table with data about colors and color codes.\n",
    "url = \"https://cf-courses-data.s3.us.cloud-object-storage.appdomain.cloud/IBM-DA0321EN-SkillsNetwork/labs/datasets/HTMLColorCodes.html\""
   ]
  },
  {
   "cell_type": "code",
   "execution_count": 8,
   "metadata": {},
   "outputs": [],
   "source": [
    "# get the contents of the webpage in text format and store in a variable called data\n",
    "data  = requests.get(url).text"
   ]
  },
  {
   "cell_type": "code",
   "execution_count": 9,
   "metadata": {},
   "outputs": [],
   "source": [
    "soup = BeautifulSoup(data,\"html5lib\")"
   ]
  },
  {
   "cell_type": "code",
   "execution_count": 10,
   "metadata": {},
   "outputs": [],
   "source": [
    "#find a html table in the web page\n",
    "table = soup.find('table') # in html table is represented by the tag <table>"
   ]
  },
  {
   "cell_type": "code",
   "execution_count": 12,
   "metadata": {},
   "outputs": [
    {
     "name": "stdout",
     "output_type": "stream",
     "text": [
      "Color Name--->None\n",
      "lightsalmon--->#FFA07A\n",
      "salmon--->#FA8072\n",
      "darksalmon--->#E9967A\n",
      "lightcoral--->#F08080\n",
      "coral--->#FF7F50\n",
      "tomato--->#FF6347\n",
      "orangered--->#FF4500\n",
      "gold--->#FFD700\n",
      "orange--->#FFA500\n",
      "darkorange--->#FF8C00\n",
      "lightyellow--->#FFFFE0\n",
      "lemonchiffon--->#FFFACD\n",
      "papayawhip--->#FFEFD5\n",
      "moccasin--->#FFE4B5\n",
      "peachpuff--->#FFDAB9\n",
      "palegoldenrod--->#EEE8AA\n",
      "khaki--->#F0E68C\n",
      "darkkhaki--->#BDB76B\n",
      "yellow--->#FFFF00\n",
      "lawngreen--->#7CFC00\n",
      "chartreuse--->#7FFF00\n",
      "limegreen--->#32CD32\n",
      "lime--->#00FF00\n",
      "forestgreen--->#228B22\n",
      "green--->#008000\n",
      "powderblue--->#B0E0E6\n",
      "lightblue--->#ADD8E6\n",
      "lightskyblue--->#87CEFA\n",
      "skyblue--->#87CEEB\n",
      "deepskyblue--->#00BFFF\n",
      "lightsteelblue--->#B0C4DE\n",
      "dodgerblue--->#1E90FF\n"
     ]
    }
   ],
   "source": [
    "#Get all rows from the table\n",
    "for row in table.find_all('tr'): # in html table row is represented by the tag <tr>\n",
    "    # Get all columns in each row.\n",
    "    cols = row.find_all('td') # in html a column is represented by the tag <td>\n",
    "    color_name = cols[2].string # store the value in column 3 as color_name\n",
    "    color_code = cols[3].string # store the value in column 4 as color_code\n",
    "    print(\"{}--->{}\".format(color_name,color_code))"
   ]
  },
  {
   "cell_type": "code",
   "execution_count": 13,
   "metadata": {},
   "outputs": [
    {
     "data": {
      "text/plain": [
       "[<td>32</td>,\n",
       " <td style=\"background:dodgerblue;\"> </td>,\n",
       " <td>dodgerblue</td>,\n",
       " <td>#1E90FF</td>,\n",
       " <td>rgb(30,144,255)</td>]"
      ]
     },
     "execution_count": 13,
     "metadata": {},
     "output_type": "execute_result"
    }
   ],
   "source": [
    "cols\n"
   ]
  },
  {
   "cell_type": "code",
   "execution_count": 14,
   "metadata": {},
   "outputs": [
    {
     "data": {
      "text/plain": [
       "<td>32</td>"
      ]
     },
     "execution_count": 14,
     "metadata": {},
     "output_type": "execute_result"
    }
   ],
   "source": [
    "cols[0]"
   ]
  },
  {
   "cell_type": "code",
   "execution_count": 15,
   "metadata": {},
   "outputs": [
    {
     "data": {
      "text/plain": [
       "<td style=\"background:dodgerblue;\"> </td>"
      ]
     },
     "execution_count": 15,
     "metadata": {},
     "output_type": "execute_result"
    }
   ],
   "source": [
    "cols[1]"
   ]
  },
  {
   "cell_type": "code",
   "execution_count": 16,
   "metadata": {},
   "outputs": [
    {
     "data": {
      "text/plain": [
       "<td>dodgerblue</td>"
      ]
     },
     "execution_count": 16,
     "metadata": {},
     "output_type": "execute_result"
    }
   ],
   "source": [
    "cols[2]"
   ]
  },
  {
   "cell_type": "code",
   "execution_count": 17,
   "metadata": {},
   "outputs": [],
   "source": [
    "import pandas as pd"
   ]
  },
  {
   "cell_type": "code",
   "execution_count": 39,
   "metadata": {},
   "outputs": [],
   "source": [
    "#The below url contains html tables with data about world population.\n",
    "url = \"https://en.wikipedia.org/wiki/World_population\""
   ]
  },
  {
   "cell_type": "code",
   "execution_count": 76,
   "metadata": {},
   "outputs": [],
   "source": [
    "url2 = \"https://www.premierleague.com/stats/top/clubs/wins?se=363\"\n",
    "data2 = requests.get(url2).text\n",
    "soup2 = BeautifulSoup(data2,\"html5lib\")\n",
    "tables2 = soup2.find_all('table')"
   ]
  },
  {
   "cell_type": "code",
   "execution_count": 77,
   "metadata": {},
   "outputs": [
    {
     "data": {
      "text/plain": [
       "1"
      ]
     },
     "execution_count": 77,
     "metadata": {},
     "output_type": "execute_result"
    }
   ],
   "source": [
    "len(tables2)"
   ]
  },
  {
   "cell_type": "code",
   "execution_count": 78,
   "metadata": {},
   "outputs": [
    {
     "data": {
      "text/plain": [
       "[<table>\n",
       "         \n",
       "         <thead>\n",
       "           <tr>\n",
       "             <th class=\"rank\" scope=\"col\">Rank</th>\n",
       "             <th scope=\"col\">Club</th>\n",
       "             <th class=\"mainStat text-centre\" scope=\"col\">Stat</th>\n",
       "             <th class=\"order\">\n",
       "               <span class=\"reorderStatsButton\">\n",
       "                 <span class=\"icn sort\"></span>\n",
       "               </span>\n",
       "             </th>\n",
       "           </tr>\n",
       "         </thead>\n",
       "         <tbody class=\"statsTableContainer\">\n",
       " \n",
       "   <tr class=\"\">\n",
       "     <td>1.</td>\n",
       "     <td scope=\"row\">\n",
       "       <a class=\"playerName\" href=\"/clubs/12/Manchester-United/overview\">\n",
       " \t\t<span class=\"badge badge-image-container\" data-size=\"25\" data-widget=\"club-badge-image\">\n",
       " \t\t\t<img class=\"badge-image badge-image--25 js-badge-image\" src=\"https://resources.premierleague.com/premierleague/badges/25/t1.png\" srcset=\"https://resources.premierleague.com/premierleague/badges/25/t1@x2.png 2x\"/>\n",
       " \t\t</span>\n",
       "       Manchester United</a>\n",
       "     </td>\n",
       "     <td class=\"mainStat text-centre\">687</td>\n",
       "     <td> </td>\n",
       "   </tr>\n",
       " \n",
       "   <tr class=\"\">\n",
       "     <td>2.</td>\n",
       "     <td scope=\"row\">\n",
       "       <a class=\"playerName\" href=\"/clubs/1/Arsenal/overview\">\n",
       " \t\t<span class=\"badge badge-image-container\" data-size=\"25\" data-widget=\"club-badge-image\">\n",
       " \t\t\t<img class=\"badge-image badge-image--25 js-badge-image\" src=\"https://resources.premierleague.com/premierleague/badges/25/t3.png\" srcset=\"https://resources.premierleague.com/premierleague/badges/25/t3@x2.png 2x\"/>\n",
       " \t\t</span>\n",
       "       Arsenal</a>\n",
       "     </td>\n",
       "     <td class=\"mainStat text-centre\">597</td>\n",
       "     <td> </td>\n",
       "   </tr>\n",
       " \n",
       "   <tr class=\"\">\n",
       "     <td>2.</td>\n",
       "     <td scope=\"row\">\n",
       "       <a class=\"playerName\" href=\"/clubs/4/Chelsea/overview\">\n",
       " \t\t<span class=\"badge badge-image-container\" data-size=\"25\" data-widget=\"club-badge-image\">\n",
       " \t\t\t<img class=\"badge-image badge-image--25 js-badge-image\" src=\"https://resources.premierleague.com/premierleague/badges/25/t8.png\" srcset=\"https://resources.premierleague.com/premierleague/badges/25/t8@x2.png 2x\"/>\n",
       " \t\t</span>\n",
       "       Chelsea</a>\n",
       "     </td>\n",
       "     <td class=\"mainStat text-centre\">597</td>\n",
       "     <td> </td>\n",
       "   </tr>\n",
       " \n",
       "   <tr class=\"\">\n",
       "     <td>4.</td>\n",
       "     <td scope=\"row\">\n",
       "       <a class=\"playerName\" href=\"/clubs/10/Liverpool/overview\">\n",
       " \t\t<span class=\"badge badge-image-container\" data-size=\"25\" data-widget=\"club-badge-image\">\n",
       " \t\t\t<img class=\"badge-image badge-image--25 js-badge-image\" src=\"https://resources.premierleague.com/premierleague/badges/25/t14.png\" srcset=\"https://resources.premierleague.com/premierleague/badges/25/t14@x2.png 2x\"/>\n",
       " \t\t</span>\n",
       "       Liverpool</a>\n",
       "     </td>\n",
       "     <td class=\"mainStat text-centre\">581</td>\n",
       "     <td> </td>\n",
       "   </tr>\n",
       " \n",
       "   <tr class=\"\">\n",
       "     <td>5.</td>\n",
       "     <td scope=\"row\">\n",
       "       <a class=\"playerName\" href=\"/clubs/21/Tottenham-Hotspur/overview\">\n",
       " \t\t<span class=\"badge badge-image-container\" data-size=\"25\" data-widget=\"club-badge-image\">\n",
       " \t\t\t<img class=\"badge-image badge-image--25 js-badge-image\" src=\"https://resources.premierleague.com/premierleague/badges/25/t6.png\" srcset=\"https://resources.premierleague.com/premierleague/badges/25/t6@x2.png 2x\"/>\n",
       " \t\t</span>\n",
       "       Tottenham Hotspur</a>\n",
       "     </td>\n",
       "     <td class=\"mainStat text-centre\">480</td>\n",
       "     <td> </td>\n",
       "   </tr>\n",
       " \n",
       "   <tr class=\"\">\n",
       "     <td>6.</td>\n",
       "     <td scope=\"row\">\n",
       "       <a class=\"playerName\" href=\"/clubs/11/Manchester-City/overview\">\n",
       " \t\t<span class=\"badge badge-image-container\" data-size=\"25\" data-widget=\"club-badge-image\">\n",
       " \t\t\t<img class=\"badge-image badge-image--25 js-badge-image\" src=\"https://resources.premierleague.com/premierleague/badges/25/t43.png\" srcset=\"https://resources.premierleague.com/premierleague/badges/25/t43@x2.png 2x\"/>\n",
       " \t\t</span>\n",
       "       Manchester City</a>\n",
       "     </td>\n",
       "     <td class=\"mainStat text-centre\">444</td>\n",
       "     <td> </td>\n",
       "   </tr>\n",
       " \n",
       "   <tr class=\"\">\n",
       "     <td>7.</td>\n",
       "     <td scope=\"row\">\n",
       "       <a class=\"playerName\" href=\"/clubs/7/Everton/overview\">\n",
       " \t\t<span class=\"badge badge-image-container\" data-size=\"25\" data-widget=\"club-badge-image\">\n",
       " \t\t\t<img class=\"badge-image badge-image--25 js-badge-image\" src=\"https://resources.premierleague.com/premierleague/badges/25/t11.png\" srcset=\"https://resources.premierleague.com/premierleague/badges/25/t11@x2.png 2x\"/>\n",
       " \t\t</span>\n",
       "       Everton</a>\n",
       "     </td>\n",
       "     <td class=\"mainStat text-centre\">407</td>\n",
       "     <td> </td>\n",
       "   </tr>\n",
       " \n",
       "   <tr class=\"\">\n",
       "     <td>8.</td>\n",
       "     <td scope=\"row\">\n",
       "       <a class=\"playerName\" href=\"/clubs/23/Newcastle-United/overview\">\n",
       " \t\t<span class=\"badge badge-image-container\" data-size=\"25\" data-widget=\"club-badge-image\">\n",
       " \t\t\t<img class=\"badge-image badge-image--25 js-badge-image\" src=\"https://resources.premierleague.com/premierleague/badges/25/t4.png\" srcset=\"https://resources.premierleague.com/premierleague/badges/25/t4@x2.png 2x\"/>\n",
       " \t\t</span>\n",
       "       Newcastle United</a>\n",
       "     </td>\n",
       "     <td class=\"mainStat text-centre\">369</td>\n",
       "     <td> </td>\n",
       "   </tr>\n",
       " \n",
       "   <tr class=\"\">\n",
       "     <td>9.</td>\n",
       "     <td scope=\"row\">\n",
       "       <a class=\"playerName\" href=\"/clubs/2/Aston-Villa/overview\">\n",
       " \t\t<span class=\"badge badge-image-container\" data-size=\"25\" data-widget=\"club-badge-image\">\n",
       " \t\t\t<img class=\"badge-image badge-image--25 js-badge-image\" src=\"https://resources.premierleague.com/premierleague/badges/25/t7.png\" srcset=\"https://resources.premierleague.com/premierleague/badges/25/t7@x2.png 2x\"/>\n",
       " \t\t</span>\n",
       "       Aston Villa</a>\n",
       "     </td>\n",
       "     <td class=\"mainStat text-centre\">341</td>\n",
       "     <td> </td>\n",
       "   </tr>\n",
       " \n",
       "   <tr class=\"\">\n",
       "     <td>10.</td>\n",
       "     <td scope=\"row\">\n",
       "       <a class=\"playerName\" href=\"/clubs/25/West-Ham-United/overview\">\n",
       " \t\t<span class=\"badge badge-image-container\" data-size=\"25\" data-widget=\"club-badge-image\">\n",
       " \t\t\t<img class=\"badge-image badge-image--25 js-badge-image\" src=\"https://resources.premierleague.com/premierleague/badges/25/t21.png\" srcset=\"https://resources.premierleague.com/premierleague/badges/25/t21@x2.png 2x\"/>\n",
       " \t\t</span>\n",
       "       West Ham United</a>\n",
       "     </td>\n",
       "     <td class=\"mainStat text-centre\">319</td>\n",
       "     <td> </td>\n",
       "   </tr>\n",
       " \n",
       "   <tr class=\"\">\n",
       "     <td>11.</td>\n",
       "     <td scope=\"row\">\n",
       "       <a class=\"playerName\" href=\"/clubs/20/Southampton/overview\">\n",
       " \t\t<span class=\"badge badge-image-container\" data-size=\"25\" data-widget=\"club-badge-image\">\n",
       " \t\t\t<img class=\"badge-image badge-image--25 js-badge-image\" src=\"https://resources.premierleague.com/premierleague/badges/25/t20.png\" srcset=\"https://resources.premierleague.com/premierleague/badges/25/t20@x2.png 2x\"/>\n",
       " \t\t</span>\n",
       "       Southampton</a>\n",
       "     </td>\n",
       "     <td class=\"mainStat text-centre\">265</td>\n",
       "     <td> </td>\n",
       "   </tr>\n",
       " \n",
       "   <tr class=\"\">\n",
       "     <td>12.</td>\n",
       "     <td scope=\"row\">\n",
       "       <a class=\"playerName\" href=\"/clubs/3/Blackburn-Rovers/overview\">\n",
       " \t\t<span class=\"badge badge-image-container\" data-size=\"25\" data-widget=\"club-badge-image\">\n",
       " \t\t\t<img class=\"badge-image badge-image--25 js-badge-image\" src=\"https://resources.premierleague.com/premierleague/badges/25/t5.png\" srcset=\"https://resources.premierleague.com/premierleague/badges/25/t5@x2.png 2x\"/>\n",
       " \t\t</span>\n",
       "       Blackburn Rovers</a>\n",
       "     </td>\n",
       "     <td class=\"mainStat text-centre\">262</td>\n",
       "     <td> </td>\n",
       "   </tr>\n",
       " \n",
       "   <tr class=\"\">\n",
       "     <td>13.</td>\n",
       "     <td scope=\"row\">\n",
       "       <a class=\"playerName\" href=\"/clubs/9/Leeds-United/overview\">\n",
       " \t\t<span class=\"badge badge-image-container\" data-size=\"25\" data-widget=\"club-badge-image\">\n",
       " \t\t\t<img class=\"badge-image badge-image--25 js-badge-image\" src=\"https://resources.premierleague.com/premierleague/badges/25/t2.png\" srcset=\"https://resources.premierleague.com/premierleague/badges/25/t2@x2.png 2x\"/>\n",
       " \t\t</span>\n",
       "       Leeds United</a>\n",
       "     </td>\n",
       "     <td class=\"mainStat text-centre\">207</td>\n",
       "     <td> </td>\n",
       "   </tr>\n",
       " \n",
       "   <tr class=\"\">\n",
       "     <td>14.</td>\n",
       "     <td scope=\"row\">\n",
       "       <a class=\"playerName\" href=\"/clubs/26/Leicester-City/overview\">\n",
       " \t\t<span class=\"badge badge-image-container\" data-size=\"25\" data-widget=\"club-badge-image\">\n",
       " \t\t\t<img class=\"badge-image badge-image--25 js-badge-image\" src=\"https://resources.premierleague.com/premierleague/badges/25/t13.png\" srcset=\"https://resources.premierleague.com/premierleague/badges/25/t13@x2.png 2x\"/>\n",
       " \t\t</span>\n",
       "       Leicester City</a>\n",
       "     </td>\n",
       "     <td class=\"mainStat text-centre\">195</td>\n",
       "     <td> </td>\n",
       "   </tr>\n",
       " \n",
       "   <tr class=\"\">\n",
       "     <td>15.</td>\n",
       "     <td scope=\"row\">\n",
       "       <a class=\"playerName\" href=\"/clubs/13/Middlesbrough/overview\">\n",
       " \t\t<span class=\"badge badge-image-container\" data-size=\"25\" data-widget=\"club-badge-image\">\n",
       " \t\t\t<img class=\"badge-image badge-image--25 js-badge-image\" src=\"https://resources.premierleague.com/premierleague/badges/25/t25.png\" srcset=\"https://resources.premierleague.com/premierleague/badges/25/t25@x2.png 2x\"/>\n",
       " \t\t</span>\n",
       "       Middlesbrough</a>\n",
       "     </td>\n",
       "     <td class=\"mainStat text-centre\">165</td>\n",
       "     <td> </td>\n",
       "   </tr>\n",
       " \n",
       "   <tr class=\"\">\n",
       "     <td>16.</td>\n",
       "     <td scope=\"row\">\n",
       "       <a class=\"playerName\" href=\"/clubs/34/Fulham/overview\">\n",
       " \t\t<span class=\"badge badge-image-container\" data-size=\"25\" data-widget=\"club-badge-image\">\n",
       " \t\t\t<img class=\"badge-image badge-image--25 js-badge-image\" src=\"https://resources.premierleague.com/premierleague/badges/25/t54.png\" srcset=\"https://resources.premierleague.com/premierleague/badges/25/t54@x2.png 2x\"/>\n",
       " \t\t</span>\n",
       "       Fulham</a>\n",
       "     </td>\n",
       "     <td class=\"mainStat text-centre\">162</td>\n",
       "     <td> </td>\n",
       "   </tr>\n",
       " \n",
       "   <tr class=\"\">\n",
       "     <td>17.</td>\n",
       "     <td scope=\"row\">\n",
       "       <a class=\"playerName\" href=\"/clubs/29/Sunderland/overview\">\n",
       " \t\t<span class=\"badge badge-image-container\" data-size=\"25\" data-widget=\"club-badge-image\">\n",
       " \t\t\t<img class=\"badge-image badge-image--25 js-badge-image\" src=\"https://resources.premierleague.com/premierleague/badges/25/t56.png\" srcset=\"https://resources.premierleague.com/premierleague/badges/25/t56@x2.png 2x\"/>\n",
       " \t\t</span>\n",
       "       Sunderland</a>\n",
       "     </td>\n",
       "     <td class=\"mainStat text-centre\">153</td>\n",
       "     <td> </td>\n",
       "   </tr>\n",
       " \n",
       "   <tr class=\"\">\n",
       "     <td>18.</td>\n",
       "     <td scope=\"row\">\n",
       "       <a class=\"playerName\" href=\"/clubs/27/Bolton-Wanderers/overview\">\n",
       " \t\t<span class=\"badge badge-image-container\" data-size=\"25\" data-widget=\"club-badge-image\">\n",
       " \t\t\t<img class=\"badge-image badge-image--25 js-badge-image\" src=\"https://resources.premierleague.com/premierleague/badges/25/t30.png\" srcset=\"https://resources.premierleague.com/premierleague/badges/25/t30@x2.png 2x\"/>\n",
       " \t\t</span>\n",
       "       Bolton Wanderers</a>\n",
       "     </td>\n",
       "     <td class=\"mainStat text-centre\">149</td>\n",
       "     <td> </td>\n",
       "   </tr>\n",
       " \n",
       "   <tr class=\"\">\n",
       "     <td>19.</td>\n",
       "     <td scope=\"row\">\n",
       "       <a class=\"playerName\" href=\"/clubs/6/Crystal-Palace/overview\">\n",
       " \t\t<span class=\"badge badge-image-container\" data-size=\"25\" data-widget=\"club-badge-image\">\n",
       " \t\t\t<img class=\"badge-image badge-image--25 js-badge-image\" src=\"https://resources.premierleague.com/premierleague/badges/25/t31.png\" srcset=\"https://resources.premierleague.com/premierleague/badges/25/t31@x2.png 2x\"/>\n",
       " \t\t</span>\n",
       "       Crystal Palace</a>\n",
       "     </td>\n",
       "     <td class=\"mainStat text-centre\">134</td>\n",
       "     <td> </td>\n",
       "   </tr>\n",
       " \n",
       "   <tr class=\"\">\n",
       "     <td>20.</td>\n",
       "     <td scope=\"row\">\n",
       "       <a class=\"playerName\" href=\"/clubs/36/West-Bromwich-Albion/overview\">\n",
       " \t\t<span class=\"badge badge-image-container\" data-size=\"25\" data-widget=\"club-badge-image\">\n",
       " \t\t\t<img class=\"badge-image badge-image--25 js-badge-image\" src=\"https://resources.premierleague.com/premierleague/badges/25/t35.png\" srcset=\"https://resources.premierleague.com/premierleague/badges/25/t35@x2.png 2x\"/>\n",
       " \t\t</span>\n",
       "       West Bromwich Albion</a>\n",
       "     </td>\n",
       "     <td class=\"mainStat text-centre\">117</td>\n",
       "     <td> </td>\n",
       "   </tr>\n",
       "         </tbody>\n",
       "       </table>]"
      ]
     },
     "execution_count": 78,
     "metadata": {},
     "output_type": "execute_result"
    }
   ],
   "source": [
    "tables2"
   ]
  },
  {
   "cell_type": "code",
   "execution_count": null,
   "metadata": {},
   "outputs": [],
   "source": []
  },
  {
   "cell_type": "code",
   "execution_count": 40,
   "metadata": {},
   "outputs": [],
   "source": [
    "# get the contents of the webpage in text format and store in a variable called data\n",
    "data  = requests.get(url).text"
   ]
  },
  {
   "cell_type": "code",
   "execution_count": 45,
   "metadata": {},
   "outputs": [],
   "source": [
    "soup = BeautifulSoup(data,\"html5lib\")"
   ]
  },
  {
   "cell_type": "code",
   "execution_count": 46,
   "metadata": {},
   "outputs": [],
   "source": [
    " #find all html tables in the web page\n",
    "tables = soup.find_all('table') # in html table is represented by the tag <table>"
   ]
  },
  {
   "cell_type": "code",
   "execution_count": 47,
   "metadata": {},
   "outputs": [
    {
     "data": {
      "text/plain": [
       "26"
      ]
     },
     "execution_count": 47,
     "metadata": {},
     "output_type": "execute_result"
    }
   ],
   "source": [
    "len(tables)"
   ]
  },
  {
   "cell_type": "code",
   "execution_count": 22,
   "metadata": {},
   "outputs": [
    {
     "data": {
      "text/plain": [
       "[<table border=\"1\" class=\"main-table\">\n",
       "    <tbody><tr>\n",
       "       <td>Number </td>\n",
       "       <td>Color</td>\n",
       "       <td>Color Name</td>\n",
       "       <td>Hex Code<br/>#RRGGBB</td>\n",
       "       <td>Decimal Code<br/>(R,G,B)</td>\n",
       "    </tr>\n",
       "    <tr>\n",
       "       <td>1</td>\n",
       "       <td style=\"background:lightsalmon;\"> </td>\n",
       "       <td>lightsalmon</td>\n",
       "       <td>#FFA07A</td>\n",
       "       <td>rgb(255,160,122)</td>\n",
       "    </tr>\n",
       "    <tr>\n",
       "       <td>2</td>\n",
       "       <td style=\"background:salmon;\"> </td>\n",
       "       <td>salmon</td>\n",
       "       <td>#FA8072</td>\n",
       "       <td>rgb(250,128,114)</td>\n",
       "    </tr>\n",
       "    <tr>\n",
       "       <td>3</td>\n",
       "       <td style=\"background:darksalmon;\"> </td>\n",
       "       <td>darksalmon</td>\n",
       "       <td>#E9967A</td>\n",
       "       <td>rgb(233,150,122)</td>\n",
       "    </tr>\n",
       "    <tr>\n",
       "       <td>4</td>\n",
       "       <td style=\"background:lightcoral;\"> </td>\n",
       "       <td>lightcoral</td>\n",
       "       <td>#F08080</td>\n",
       "       <td>rgb(240,128,128)</td>\n",
       "    </tr>\n",
       "    <tr>\n",
       "       <td>5</td>\n",
       "       <td style=\"background:coral;\"> </td>\n",
       "       <td>coral</td>\n",
       "       <td>#FF7F50</td>\n",
       "       <td>rgb(255,127,80)</td>\n",
       "    </tr>\n",
       "    <tr>\n",
       "       <td>6</td>\n",
       "       <td style=\"background:tomato;\"> </td>\n",
       "       <td>tomato</td>\n",
       "       <td>#FF6347</td>\n",
       "       <td>rgb(255,99,71)</td>\n",
       "    </tr>\n",
       "    <tr>\n",
       "       <td>7</td>\n",
       "       <td style=\"background:orangered;\"> </td>\n",
       "       <td>orangered</td>\n",
       "       <td>#FF4500</td>\n",
       "       <td>rgb(255,69,0)</td>\n",
       "    </tr>\n",
       "    <tr>\n",
       "       <td>8</td>\n",
       "       <td style=\"background:gold;\"> </td>\n",
       "       <td>gold</td>\n",
       "       <td>#FFD700</td>\n",
       "       <td>rgb(255,215,0)</td>\n",
       "    </tr>\n",
       "    <tr>\n",
       "       <td>9</td>\n",
       "       <td style=\"background:orange;\"> </td>\n",
       "       <td>orange</td>\n",
       "       <td>#FFA500</td>\n",
       "       <td>rgb(255,165,0)</td>\n",
       "    </tr>\n",
       "    <tr>\n",
       "       <td>10</td>\n",
       "       <td style=\"background:darkorange;\"> </td>\n",
       "       <td>darkorange</td>\n",
       "       <td>#FF8C00</td>\n",
       "       <td>rgb(255,140,0)</td>\n",
       "    </tr>\n",
       "    <tr>\n",
       "       <td>11</td>\n",
       "       <td style=\"background:lightyellow;\"> </td>\n",
       "       <td>lightyellow</td>\n",
       "       <td>#FFFFE0</td>\n",
       "       <td>rgb(255,255,224)</td>\n",
       "    </tr>\n",
       "    <tr>\n",
       "       <td>12</td>\n",
       "       <td style=\"background:lemonchiffon;\"> </td>\n",
       "       <td>lemonchiffon</td>\n",
       "       <td>#FFFACD</td>\n",
       "       <td>rgb(255,250,205)</td>\n",
       "    </tr>\n",
       "    <tr>\n",
       "       <td>13</td>\n",
       "       <td style=\"background:papayawhip;\"> </td>\n",
       "       <td>papayawhip</td>\n",
       "       <td>#FFEFD5</td>\n",
       "       <td>rgb(255,239,213)</td>\n",
       "    </tr>\n",
       "    <tr>\n",
       "       <td>14</td>\n",
       "       <td style=\"background:moccasin;\"> </td>\n",
       "       <td>moccasin</td>\n",
       "       <td>#FFE4B5</td>\n",
       "       <td>rgb(255,228,181)</td>\n",
       "    </tr>\n",
       "    <tr>\n",
       "       <td>15</td>\n",
       "       <td style=\"background:peachpuff;\"> </td>\n",
       "       <td>peachpuff</td>\n",
       "       <td>#FFDAB9</td>\n",
       "       <td>rgb(255,218,185)</td>\n",
       "    </tr>\n",
       "    <tr>\n",
       "       <td>16</td>\n",
       "       <td style=\"background:palegoldenrod;\"> </td>\n",
       "       <td>palegoldenrod</td>\n",
       "       <td>#EEE8AA</td>\n",
       "       <td>rgb(238,232,170)</td>\n",
       "    </tr>\n",
       "    <tr>\n",
       "       <td>17</td>\n",
       "       <td style=\"background:khaki;\"> </td>\n",
       "       <td>khaki</td>\n",
       "       <td>#F0E68C</td>\n",
       "       <td>rgb(240,230,140)</td>\n",
       "    </tr>\n",
       "    <tr>\n",
       "       <td>18</td>\n",
       "       <td style=\"background:darkkhaki;\"> </td>\n",
       "       <td>darkkhaki</td>\n",
       "       <td>#BDB76B</td>\n",
       "       <td>rgb(189,183,107)</td>\n",
       "    </tr>\n",
       "    <tr>\n",
       "       <td>19</td>\n",
       "       <td style=\"background:yellow;\"> </td>\n",
       "       <td>yellow</td>\n",
       "       <td>#FFFF00</td>\n",
       "       <td>rgb(255,255,0)</td>\n",
       "    </tr>\n",
       "    <tr>\n",
       "       <td>20</td>\n",
       "       <td style=\"background:lawngreen;\"> </td>\n",
       "       <td>lawngreen</td>\n",
       "       <td>#7CFC00</td>\n",
       "       <td>rgb(124,252,0)</td>\n",
       "    </tr>\n",
       "    <tr>\n",
       "       <td>21</td>\n",
       "       <td style=\"background:chartreuse;\"> </td>\n",
       "       <td>chartreuse</td>\n",
       "       <td>#7FFF00</td>\n",
       "       <td>rgb(127,255,0)</td>\n",
       "    </tr>\n",
       "    <tr>\n",
       "       <td>22</td>\n",
       "       <td style=\"background:limegreen;\"> </td>\n",
       "       <td>limegreen</td>\n",
       "       <td>#32CD32</td>\n",
       "       <td>rgb(50,205,50)</td>\n",
       "    </tr>\n",
       "    <tr>\n",
       "       <td>23</td>\n",
       "       <td style=\"background:lime;\"> </td>\n",
       "       <td>lime</td>\n",
       "       <td>#00FF00</td>\n",
       "       <td>rgb(0.255.0)</td>\n",
       "    </tr>\n",
       "    <tr>\n",
       "       <td>24</td>\n",
       "       <td style=\"background:forestgreen;\"> </td>\n",
       "       <td>forestgreen</td>\n",
       "       <td>#228B22</td>\n",
       "       <td>rgb(34,139,34)</td>\n",
       "    </tr>\n",
       "    <tr>\n",
       "       <td>25</td>\n",
       "       <td style=\"background:green;\"> </td>\n",
       "       <td>green</td>\n",
       "       <td>#008000</td>\n",
       "       <td>rgb(0,128,0)</td>\n",
       "    </tr>\n",
       "    <tr>\n",
       "       <td>26</td>\n",
       "       <td style=\"background:powderblue;\"> </td>\n",
       "       <td>powderblue</td>\n",
       "       <td>#B0E0E6</td>\n",
       "       <td>rgb(176,224,230)</td>\n",
       "    </tr>\n",
       "    <tr>\n",
       "       <td>27</td>\n",
       "       <td style=\"background:lightblue;\"> </td>\n",
       "       <td>lightblue</td>\n",
       "       <td>#ADD8E6</td>\n",
       "       <td>rgb(173,216,230)</td>\n",
       "    </tr>\n",
       "    <tr>\n",
       "       <td>28</td>\n",
       "       <td style=\"background:lightskyblue;\"> </td>\n",
       "       <td>lightskyblue</td>\n",
       "       <td>#87CEFA</td>\n",
       "       <td>rgb(135,206,250)</td>\n",
       "    </tr>\n",
       "    <tr>\n",
       "       <td>29</td>\n",
       "       <td style=\"background:skyblue;\"> </td>\n",
       "       <td>skyblue</td>\n",
       "       <td>#87CEEB</td>\n",
       "       <td>rgb(135,206,235)</td>\n",
       "    </tr>\n",
       "    <tr>\n",
       "       <td>30</td>\n",
       "       <td style=\"background:deepskyblue;\"> </td>\n",
       "       <td>deepskyblue</td>\n",
       "       <td>#00BFFF</td>\n",
       "       <td>rgb(0,191,255)</td>\n",
       "    </tr>\n",
       "    <tr>\n",
       "       <td>31</td>\n",
       "       <td style=\"background:lightsteelblue;\"> </td>\n",
       "       <td>lightsteelblue</td>\n",
       "       <td>#B0C4DE</td>\n",
       "       <td>rgb(176,196,222)</td>\n",
       "    </tr>\n",
       "    <tr>\n",
       "       <td>32</td>\n",
       "       <td style=\"background:dodgerblue;\"> </td>\n",
       "       <td>dodgerblue</td>\n",
       "       <td>#1E90FF</td>\n",
       "       <td>rgb(30,144,255)</td>\n",
       "    </tr>\n",
       " </tbody></table>]"
      ]
     },
     "execution_count": 22,
     "metadata": {},
     "output_type": "execute_result"
    }
   ],
   "source": [
    "tables"
   ]
  },
  {
   "cell_type": "code",
   "execution_count": 48,
   "metadata": {},
   "outputs": [],
   "source": [
    "for index,table in enumerate(tables):\n",
    "    if (\"10 most densely populated countries\" in str(table)):\n",
    "        table_index = index"
   ]
  },
  {
   "cell_type": "code",
   "execution_count": 49,
   "metadata": {},
   "outputs": [
    {
     "name": "stdout",
     "output_type": "stream",
     "text": [
      "5\n"
     ]
    }
   ],
   "source": [
    "print(table_index)"
   ]
  },
  {
   "cell_type": "code",
   "execution_count": 50,
   "metadata": {},
   "outputs": [
    {
     "name": "stdout",
     "output_type": "stream",
     "text": [
      "<table class=\"wikitable sortable\" style=\"text-align:right\">\n",
      " <caption>\n",
      "  10 most densely populated countries\n",
      "  <small>\n",
      "   (with population above 5 million)\n",
      "  </small>\n",
      " </caption>\n",
      " <tbody>\n",
      "  <tr>\n",
      "   <th>\n",
      "    Rank\n",
      "   </th>\n",
      "   <th>\n",
      "    Country\n",
      "   </th>\n",
      "   <th>\n",
      "    Population\n",
      "   </th>\n",
      "   <th>\n",
      "    Area\n",
      "    <br/>\n",
      "    <small>\n",
      "     (km\n",
      "     <sup>\n",
      "      2\n",
      "     </sup>\n",
      "     )\n",
      "    </small>\n",
      "   </th>\n",
      "   <th>\n",
      "    Density\n",
      "    <br/>\n",
      "    <small>\n",
      "     (pop/km\n",
      "     <sup>\n",
      "      2\n",
      "     </sup>\n",
      "     )\n",
      "    </small>\n",
      "   </th>\n",
      "  </tr>\n",
      "  <tr>\n",
      "   <td>\n",
      "    1\n",
      "   </td>\n",
      "   <td align=\"left\">\n",
      "    <span class=\"flagicon\">\n",
      "     <img alt=\"\" class=\"thumbborder\" data-file-height=\"2880\" data-file-width=\"4320\" decoding=\"async\" height=\"15\" src=\"//upload.wikimedia.org/wikipedia/commons/thumb/4/48/Flag_of_Singapore.svg/23px-Flag_of_Singapore.svg.png\" srcset=\"//upload.wikimedia.org/wikipedia/commons/thumb/4/48/Flag_of_Singapore.svg/35px-Flag_of_Singapore.svg.png 1.5x, //upload.wikimedia.org/wikipedia/commons/thumb/4/48/Flag_of_Singapore.svg/45px-Flag_of_Singapore.svg.png 2x\" width=\"23\"/>\n",
      "    </span>\n",
      "    <a href=\"/wiki/Singapore\" title=\"Singapore\">\n",
      "     Singapore\n",
      "    </a>\n",
      "   </td>\n",
      "   <td>\n",
      "    5,704,000\n",
      "   </td>\n",
      "   <td>\n",
      "    710\n",
      "   </td>\n",
      "   <td>\n",
      "    8,033\n",
      "   </td>\n",
      "  </tr>\n",
      "  <tr>\n",
      "   <td>\n",
      "    2\n",
      "   </td>\n",
      "   <td align=\"left\">\n",
      "    <span class=\"flagicon\">\n",
      "     <img alt=\"\" class=\"thumbborder\" data-file-height=\"600\" data-file-width=\"1000\" decoding=\"async\" height=\"14\" src=\"//upload.wikimedia.org/wikipedia/commons/thumb/f/f9/Flag_of_Bangladesh.svg/23px-Flag_of_Bangladesh.svg.png\" srcset=\"//upload.wikimedia.org/wikipedia/commons/thumb/f/f9/Flag_of_Bangladesh.svg/35px-Flag_of_Bangladesh.svg.png 1.5x, //upload.wikimedia.org/wikipedia/commons/thumb/f/f9/Flag_of_Bangladesh.svg/46px-Flag_of_Bangladesh.svg.png 2x\" width=\"23\"/>\n",
      "    </span>\n",
      "    <a href=\"/wiki/Bangladesh\" title=\"Bangladesh\">\n",
      "     Bangladesh\n",
      "    </a>\n",
      "   </td>\n",
      "   <td>\n",
      "    170,800,000\n",
      "   </td>\n",
      "   <td>\n",
      "    143,998\n",
      "   </td>\n",
      "   <td>\n",
      "    1,186\n",
      "   </td>\n",
      "  </tr>\n",
      "  <tr>\n",
      "   <td>\n",
      "    3\n",
      "   </td>\n",
      "   <td align=\"left\">\n",
      "    <span class=\"flagicon\">\n",
      "     <img alt=\"\" class=\"thumbborder\" data-file-height=\"600\" data-file-width=\"900\" decoding=\"async\" height=\"15\" src=\"//upload.wikimedia.org/wikipedia/commons/thumb/5/59/Flag_of_Lebanon.svg/23px-Flag_of_Lebanon.svg.png\" srcset=\"//upload.wikimedia.org/wikipedia/commons/thumb/5/59/Flag_of_Lebanon.svg/35px-Flag_of_Lebanon.svg.png 1.5x, //upload.wikimedia.org/wikipedia/commons/thumb/5/59/Flag_of_Lebanon.svg/45px-Flag_of_Lebanon.svg.png 2x\" width=\"23\"/>\n",
      "    </span>\n",
      "    <a href=\"/wiki/Lebanon\" title=\"Lebanon\">\n",
      "     Lebanon\n",
      "    </a>\n",
      "   </td>\n",
      "   <td>\n",
      "    6,856,000\n",
      "   </td>\n",
      "   <td>\n",
      "    10,452\n",
      "   </td>\n",
      "   <td>\n",
      "    656\n",
      "   </td>\n",
      "  </tr>\n",
      "  <tr>\n",
      "   <td>\n",
      "    4\n",
      "   </td>\n",
      "   <td align=\"left\">\n",
      "    <span class=\"flagicon\">\n",
      "     <img alt=\"\" class=\"thumbborder\" data-file-height=\"600\" data-file-width=\"900\" decoding=\"async\" height=\"15\" src=\"//upload.wikimedia.org/wikipedia/commons/thumb/7/72/Flag_of_the_Republic_of_China.svg/23px-Flag_of_the_Republic_of_China.svg.png\" srcset=\"//upload.wikimedia.org/wikipedia/commons/thumb/7/72/Flag_of_the_Republic_of_China.svg/35px-Flag_of_the_Republic_of_China.svg.png 1.5x, //upload.wikimedia.org/wikipedia/commons/thumb/7/72/Flag_of_the_Republic_of_China.svg/45px-Flag_of_the_Republic_of_China.svg.png 2x\" width=\"23\"/>\n",
      "    </span>\n",
      "    <a href=\"/wiki/Taiwan\" title=\"Taiwan\">\n",
      "     Taiwan\n",
      "    </a>\n",
      "   </td>\n",
      "   <td>\n",
      "    23,604,000\n",
      "   </td>\n",
      "   <td>\n",
      "    36,193\n",
      "   </td>\n",
      "   <td>\n",
      "    652\n",
      "   </td>\n",
      "  </tr>\n",
      "  <tr>\n",
      "   <td>\n",
      "    5\n",
      "   </td>\n",
      "   <td align=\"left\">\n",
      "    <span class=\"flagicon\">\n",
      "     <img alt=\"\" class=\"thumbborder\" data-file-height=\"600\" data-file-width=\"900\" decoding=\"async\" height=\"15\" src=\"//upload.wikimedia.org/wikipedia/commons/thumb/0/09/Flag_of_South_Korea.svg/23px-Flag_of_South_Korea.svg.png\" srcset=\"//upload.wikimedia.org/wikipedia/commons/thumb/0/09/Flag_of_South_Korea.svg/35px-Flag_of_South_Korea.svg.png 1.5x, //upload.wikimedia.org/wikipedia/commons/thumb/0/09/Flag_of_South_Korea.svg/45px-Flag_of_South_Korea.svg.png 2x\" width=\"23\"/>\n",
      "    </span>\n",
      "    <a href=\"/wiki/South_Korea\" title=\"South Korea\">\n",
      "     South Korea\n",
      "    </a>\n",
      "   </td>\n",
      "   <td>\n",
      "    51,781,000\n",
      "   </td>\n",
      "   <td>\n",
      "    99,538\n",
      "   </td>\n",
      "   <td>\n",
      "    520\n",
      "   </td>\n",
      "  </tr>\n",
      "  <tr>\n",
      "   <td>\n",
      "    6\n",
      "   </td>\n",
      "   <td align=\"left\">\n",
      "    <span class=\"flagicon\">\n",
      "     <img alt=\"\" class=\"thumbborder\" data-file-height=\"720\" data-file-width=\"1080\" decoding=\"async\" height=\"15\" src=\"//upload.wikimedia.org/wikipedia/commons/thumb/1/17/Flag_of_Rwanda.svg/23px-Flag_of_Rwanda.svg.png\" srcset=\"//upload.wikimedia.org/wikipedia/commons/thumb/1/17/Flag_of_Rwanda.svg/35px-Flag_of_Rwanda.svg.png 1.5x, //upload.wikimedia.org/wikipedia/commons/thumb/1/17/Flag_of_Rwanda.svg/45px-Flag_of_Rwanda.svg.png 2x\" width=\"23\"/>\n",
      "    </span>\n",
      "    <a href=\"/wiki/Rwanda\" title=\"Rwanda\">\n",
      "     Rwanda\n",
      "    </a>\n",
      "   </td>\n",
      "   <td>\n",
      "    12,374,000\n",
      "   </td>\n",
      "   <td>\n",
      "    26,338\n",
      "   </td>\n",
      "   <td>\n",
      "    470\n",
      "   </td>\n",
      "  </tr>\n",
      "  <tr>\n",
      "   <td>\n",
      "    7\n",
      "   </td>\n",
      "   <td align=\"left\">\n",
      "    <span class=\"flagicon\">\n",
      "     <img alt=\"\" class=\"thumbborder\" data-file-height=\"600\" data-file-width=\"1000\" decoding=\"async\" height=\"14\" src=\"//upload.wikimedia.org/wikipedia/commons/thumb/5/56/Flag_of_Haiti.svg/23px-Flag_of_Haiti.svg.png\" srcset=\"//upload.wikimedia.org/wikipedia/commons/thumb/5/56/Flag_of_Haiti.svg/35px-Flag_of_Haiti.svg.png 1.5x, //upload.wikimedia.org/wikipedia/commons/thumb/5/56/Flag_of_Haiti.svg/46px-Flag_of_Haiti.svg.png 2x\" width=\"23\"/>\n",
      "    </span>\n",
      "    <a href=\"/wiki/Haiti\" title=\"Haiti\">\n",
      "     Haiti\n",
      "    </a>\n",
      "   </td>\n",
      "   <td>\n",
      "    11,578,000\n",
      "   </td>\n",
      "   <td>\n",
      "    27,065\n",
      "   </td>\n",
      "   <td>\n",
      "    428\n",
      "   </td>\n",
      "  </tr>\n",
      "  <tr>\n",
      "   <td>\n",
      "    8\n",
      "   </td>\n",
      "   <td align=\"left\">\n",
      "    <span class=\"flagicon\">\n",
      "     <img alt=\"\" class=\"thumbborder\" data-file-height=\"600\" data-file-width=\"900\" decoding=\"async\" height=\"15\" src=\"//upload.wikimedia.org/wikipedia/commons/thumb/2/20/Flag_of_the_Netherlands.svg/23px-Flag_of_the_Netherlands.svg.png\" srcset=\"//upload.wikimedia.org/wikipedia/commons/thumb/2/20/Flag_of_the_Netherlands.svg/35px-Flag_of_the_Netherlands.svg.png 1.5x, //upload.wikimedia.org/wikipedia/commons/thumb/2/20/Flag_of_the_Netherlands.svg/45px-Flag_of_the_Netherlands.svg.png 2x\" width=\"23\"/>\n",
      "    </span>\n",
      "    <a href=\"/wiki/Netherlands\" title=\"Netherlands\">\n",
      "     Netherlands\n",
      "    </a>\n",
      "   </td>\n",
      "   <td>\n",
      "    17,600,000\n",
      "   </td>\n",
      "   <td>\n",
      "    41,526\n",
      "   </td>\n",
      "   <td>\n",
      "    424\n",
      "   </td>\n",
      "  </tr>\n",
      "  <tr>\n",
      "   <td>\n",
      "    9\n",
      "   </td>\n",
      "   <td align=\"left\">\n",
      "    <span class=\"flagicon\">\n",
      "     <img alt=\"\" class=\"thumbborder\" data-file-height=\"800\" data-file-width=\"1100\" decoding=\"async\" height=\"15\" src=\"//upload.wikimedia.org/wikipedia/commons/thumb/d/d4/Flag_of_Israel.svg/21px-Flag_of_Israel.svg.png\" srcset=\"//upload.wikimedia.org/wikipedia/commons/thumb/d/d4/Flag_of_Israel.svg/32px-Flag_of_Israel.svg.png 1.5x, //upload.wikimedia.org/wikipedia/commons/thumb/d/d4/Flag_of_Israel.svg/41px-Flag_of_Israel.svg.png 2x\" width=\"21\"/>\n",
      "    </span>\n",
      "    <a href=\"/wiki/Israel\" title=\"Israel\">\n",
      "     Israel\n",
      "    </a>\n",
      "   </td>\n",
      "   <td>\n",
      "    9,360,000\n",
      "   </td>\n",
      "   <td>\n",
      "    22,072\n",
      "   </td>\n",
      "   <td>\n",
      "    424\n",
      "   </td>\n",
      "  </tr>\n",
      "  <tr>\n",
      "   <td>\n",
      "    10\n",
      "   </td>\n",
      "   <td align=\"left\">\n",
      "    <span class=\"flagicon\">\n",
      "     <img alt=\"\" class=\"thumbborder\" data-file-height=\"900\" data-file-width=\"1350\" decoding=\"async\" height=\"15\" src=\"//upload.wikimedia.org/wikipedia/en/thumb/4/41/Flag_of_India.svg/23px-Flag_of_India.svg.png\" srcset=\"//upload.wikimedia.org/wikipedia/en/thumb/4/41/Flag_of_India.svg/35px-Flag_of_India.svg.png 1.5x, //upload.wikimedia.org/wikipedia/en/thumb/4/41/Flag_of_India.svg/45px-Flag_of_India.svg.png 2x\" width=\"23\"/>\n",
      "    </span>\n",
      "    <a href=\"/wiki/India\" title=\"India\">\n",
      "     India\n",
      "    </a>\n",
      "   </td>\n",
      "   <td>\n",
      "    1,377,930,000\n",
      "   </td>\n",
      "   <td>\n",
      "    3,287,240\n",
      "   </td>\n",
      "   <td>\n",
      "    419\n",
      "   </td>\n",
      "  </tr>\n",
      " </tbody>\n",
      "</table>\n",
      "\n"
     ]
    }
   ],
   "source": [
    "print(tables[table_index].prettify())"
   ]
  },
  {
   "cell_type": "code",
   "execution_count": 51,
   "metadata": {},
   "outputs": [
    {
     "data": {
      "text/html": [
       "<div>\n",
       "<style scoped>\n",
       "    .dataframe tbody tr th:only-of-type {\n",
       "        vertical-align: middle;\n",
       "    }\n",
       "\n",
       "    .dataframe tbody tr th {\n",
       "        vertical-align: top;\n",
       "    }\n",
       "\n",
       "    .dataframe thead th {\n",
       "        text-align: right;\n",
       "    }\n",
       "</style>\n",
       "<table border=\"1\" class=\"dataframe\">\n",
       "  <thead>\n",
       "    <tr style=\"text-align: right;\">\n",
       "      <th></th>\n",
       "      <th>Rank</th>\n",
       "      <th>Country</th>\n",
       "      <th>Population</th>\n",
       "      <th>Area</th>\n",
       "      <th>Density</th>\n",
       "    </tr>\n",
       "  </thead>\n",
       "  <tbody>\n",
       "    <tr>\n",
       "      <th>0</th>\n",
       "      <td>1</td>\n",
       "      <td>Singapore</td>\n",
       "      <td>5,704,000</td>\n",
       "      <td>710</td>\n",
       "      <td>8,033</td>\n",
       "    </tr>\n",
       "    <tr>\n",
       "      <th>1</th>\n",
       "      <td>2</td>\n",
       "      <td>Bangladesh</td>\n",
       "      <td>170,800,000</td>\n",
       "      <td>143,998</td>\n",
       "      <td>1,186</td>\n",
       "    </tr>\n",
       "    <tr>\n",
       "      <th>2</th>\n",
       "      <td>3</td>\n",
       "      <td>Lebanon</td>\n",
       "      <td>6,856,000</td>\n",
       "      <td>10,452</td>\n",
       "      <td>656</td>\n",
       "    </tr>\n",
       "    <tr>\n",
       "      <th>3</th>\n",
       "      <td>4</td>\n",
       "      <td>Taiwan</td>\n",
       "      <td>23,604,000</td>\n",
       "      <td>36,193</td>\n",
       "      <td>652</td>\n",
       "    </tr>\n",
       "    <tr>\n",
       "      <th>4</th>\n",
       "      <td>5</td>\n",
       "      <td>South Korea</td>\n",
       "      <td>51,781,000</td>\n",
       "      <td>99,538</td>\n",
       "      <td>520</td>\n",
       "    </tr>\n",
       "    <tr>\n",
       "      <th>5</th>\n",
       "      <td>6</td>\n",
       "      <td>Rwanda</td>\n",
       "      <td>12,374,000</td>\n",
       "      <td>26,338</td>\n",
       "      <td>470</td>\n",
       "    </tr>\n",
       "    <tr>\n",
       "      <th>6</th>\n",
       "      <td>7</td>\n",
       "      <td>Haiti</td>\n",
       "      <td>11,578,000</td>\n",
       "      <td>27,065</td>\n",
       "      <td>428</td>\n",
       "    </tr>\n",
       "    <tr>\n",
       "      <th>7</th>\n",
       "      <td>8</td>\n",
       "      <td>Netherlands</td>\n",
       "      <td>17,600,000</td>\n",
       "      <td>41,526</td>\n",
       "      <td>424</td>\n",
       "    </tr>\n",
       "    <tr>\n",
       "      <th>8</th>\n",
       "      <td>9</td>\n",
       "      <td>Israel</td>\n",
       "      <td>9,360,000</td>\n",
       "      <td>22,072</td>\n",
       "      <td>424</td>\n",
       "    </tr>\n",
       "    <tr>\n",
       "      <th>9</th>\n",
       "      <td>10</td>\n",
       "      <td>India</td>\n",
       "      <td>1,377,930,000</td>\n",
       "      <td>3,287,240</td>\n",
       "      <td>419</td>\n",
       "    </tr>\n",
       "  </tbody>\n",
       "</table>\n",
       "</div>"
      ],
      "text/plain": [
       "  Rank       Country     Population       Area Density\n",
       "0    1     Singapore      5,704,000        710   8,033\n",
       "1    2    Bangladesh    170,800,000    143,998   1,186\n",
       "2    3       Lebanon      6,856,000     10,452     656\n",
       "3    4        Taiwan     23,604,000     36,193     652\n",
       "4    5   South Korea     51,781,000     99,538     520\n",
       "5    6        Rwanda     12,374,000     26,338     470\n",
       "6    7         Haiti     11,578,000     27,065     428\n",
       "7    8   Netherlands     17,600,000     41,526     424\n",
       "8    9        Israel      9,360,000     22,072     424\n",
       "9   10         India  1,377,930,000  3,287,240     419"
      ]
     },
     "execution_count": 51,
     "metadata": {},
     "output_type": "execute_result"
    }
   ],
   "source": [
    "population_data = pd.DataFrame(columns=[\"Rank\", \"Country\", \"Population\", \"Area\", \"Density\"])\n",
    "\n",
    "for row in tables[table_index].tbody.find_all(\"tr\"):\n",
    "    col = row.find_all(\"td\")\n",
    "    if (col != []):\n",
    "        rank = col[0].text\n",
    "        country = col[1].text\n",
    "        population = col[2].text.strip()\n",
    "        area = col[3].text.strip()\n",
    "        density = col[4].text.strip()\n",
    "        population_data = population_data.append({\"Rank\":rank, \"Country\":country, \"Population\":population, \"Area\":area, \"Density\":density}, ignore_index=True)\n",
    "\n",
    "population_data"
   ]
  },
  {
   "cell_type": "code",
   "execution_count": 52,
   "metadata": {},
   "outputs": [
    {
     "data": {
      "text/plain": [
       "[   Rank      Country  Population  Area(km2)  Density(pop/km2)\n",
       " 0     1    Singapore     5704000        710              8033\n",
       " 1     2   Bangladesh   170800000     143998              1186\n",
       " 2     3      Lebanon     6856000      10452               656\n",
       " 3     4       Taiwan    23604000      36193               652\n",
       " 4     5  South Korea    51781000      99538               520\n",
       " 5     6       Rwanda    12374000      26338               470\n",
       " 6     7        Haiti    11578000      27065               428\n",
       " 7     8  Netherlands    17600000      41526               424\n",
       " 8     9       Israel     9360000      22072               424\n",
       " 9    10        India  1377930000    3287240               419]"
      ]
     },
     "execution_count": 52,
     "metadata": {},
     "output_type": "execute_result"
    }
   ],
   "source": [
    "pd.read_html(str(tables[5]), flavor='bs4')"
   ]
  },
  {
   "cell_type": "code",
   "execution_count": 54,
   "metadata": {},
   "outputs": [
    {
     "data": {
      "text/html": [
       "<div>\n",
       "<style scoped>\n",
       "    .dataframe tbody tr th:only-of-type {\n",
       "        vertical-align: middle;\n",
       "    }\n",
       "\n",
       "    .dataframe tbody tr th {\n",
       "        vertical-align: top;\n",
       "    }\n",
       "\n",
       "    .dataframe thead th {\n",
       "        text-align: right;\n",
       "    }\n",
       "</style>\n",
       "<table border=\"1\" class=\"dataframe\">\n",
       "  <thead>\n",
       "    <tr style=\"text-align: right;\">\n",
       "      <th></th>\n",
       "      <th>Rank</th>\n",
       "      <th>Country</th>\n",
       "      <th>Population</th>\n",
       "      <th>Area(km2)</th>\n",
       "      <th>Density(pop/km2)</th>\n",
       "    </tr>\n",
       "  </thead>\n",
       "  <tbody>\n",
       "    <tr>\n",
       "      <th>0</th>\n",
       "      <td>1</td>\n",
       "      <td>Singapore</td>\n",
       "      <td>5704000</td>\n",
       "      <td>710</td>\n",
       "      <td>8033</td>\n",
       "    </tr>\n",
       "    <tr>\n",
       "      <th>1</th>\n",
       "      <td>2</td>\n",
       "      <td>Bangladesh</td>\n",
       "      <td>170800000</td>\n",
       "      <td>143998</td>\n",
       "      <td>1186</td>\n",
       "    </tr>\n",
       "    <tr>\n",
       "      <th>2</th>\n",
       "      <td>3</td>\n",
       "      <td>Lebanon</td>\n",
       "      <td>6856000</td>\n",
       "      <td>10452</td>\n",
       "      <td>656</td>\n",
       "    </tr>\n",
       "    <tr>\n",
       "      <th>3</th>\n",
       "      <td>4</td>\n",
       "      <td>Taiwan</td>\n",
       "      <td>23604000</td>\n",
       "      <td>36193</td>\n",
       "      <td>652</td>\n",
       "    </tr>\n",
       "    <tr>\n",
       "      <th>4</th>\n",
       "      <td>5</td>\n",
       "      <td>South Korea</td>\n",
       "      <td>51781000</td>\n",
       "      <td>99538</td>\n",
       "      <td>520</td>\n",
       "    </tr>\n",
       "    <tr>\n",
       "      <th>5</th>\n",
       "      <td>6</td>\n",
       "      <td>Rwanda</td>\n",
       "      <td>12374000</td>\n",
       "      <td>26338</td>\n",
       "      <td>470</td>\n",
       "    </tr>\n",
       "    <tr>\n",
       "      <th>6</th>\n",
       "      <td>7</td>\n",
       "      <td>Haiti</td>\n",
       "      <td>11578000</td>\n",
       "      <td>27065</td>\n",
       "      <td>428</td>\n",
       "    </tr>\n",
       "    <tr>\n",
       "      <th>7</th>\n",
       "      <td>8</td>\n",
       "      <td>Netherlands</td>\n",
       "      <td>17600000</td>\n",
       "      <td>41526</td>\n",
       "      <td>424</td>\n",
       "    </tr>\n",
       "    <tr>\n",
       "      <th>8</th>\n",
       "      <td>9</td>\n",
       "      <td>Israel</td>\n",
       "      <td>9360000</td>\n",
       "      <td>22072</td>\n",
       "      <td>424</td>\n",
       "    </tr>\n",
       "    <tr>\n",
       "      <th>9</th>\n",
       "      <td>10</td>\n",
       "      <td>India</td>\n",
       "      <td>1377930000</td>\n",
       "      <td>3287240</td>\n",
       "      <td>419</td>\n",
       "    </tr>\n",
       "  </tbody>\n",
       "</table>\n",
       "</div>"
      ],
      "text/plain": [
       "   Rank      Country  Population  Area(km2)  Density(pop/km2)\n",
       "0     1    Singapore     5704000        710              8033\n",
       "1     2   Bangladesh   170800000     143998              1186\n",
       "2     3      Lebanon     6856000      10452               656\n",
       "3     4       Taiwan    23604000      36193               652\n",
       "4     5  South Korea    51781000      99538               520\n",
       "5     6       Rwanda    12374000      26338               470\n",
       "6     7        Haiti    11578000      27065               428\n",
       "7     8  Netherlands    17600000      41526               424\n",
       "8     9       Israel     9360000      22072               424\n",
       "9    10        India  1377930000    3287240               419"
      ]
     },
     "execution_count": 54,
     "metadata": {},
     "output_type": "execute_result"
    }
   ],
   "source": [
    "population_data_read_html = pd.read_html(str(tables[5]), flavor='bs4')[0]\n",
    "\n",
    "population_data_read_html"
   ]
  },
  {
   "cell_type": "code",
   "execution_count": 55,
   "metadata": {},
   "outputs": [],
   "source": [
    "dataframe_list = pd.read_html(url, flavor='bs4')"
   ]
  },
  {
   "cell_type": "code",
   "execution_count": 56,
   "metadata": {},
   "outputs": [
    {
     "data": {
      "text/plain": [
       "26"
      ]
     },
     "execution_count": 56,
     "metadata": {},
     "output_type": "execute_result"
    }
   ],
   "source": [
    "len(dataframe_list)"
   ]
  },
  {
   "cell_type": "code",
   "execution_count": 58,
   "metadata": {},
   "outputs": [
    {
     "data": {
      "text/html": [
       "<div>\n",
       "<style scoped>\n",
       "    .dataframe tbody tr th:only-of-type {\n",
       "        vertical-align: middle;\n",
       "    }\n",
       "\n",
       "    .dataframe tbody tr th {\n",
       "        vertical-align: top;\n",
       "    }\n",
       "\n",
       "    .dataframe thead th {\n",
       "        text-align: right;\n",
       "    }\n",
       "</style>\n",
       "<table border=\"1\" class=\"dataframe\">\n",
       "  <thead>\n",
       "    <tr style=\"text-align: right;\">\n",
       "      <th></th>\n",
       "      <th>Rank</th>\n",
       "      <th>Country</th>\n",
       "      <th>Population</th>\n",
       "      <th>Area(km2)</th>\n",
       "      <th>Density(pop/km2)</th>\n",
       "    </tr>\n",
       "  </thead>\n",
       "  <tbody>\n",
       "    <tr>\n",
       "      <th>0</th>\n",
       "      <td>1</td>\n",
       "      <td>Singapore</td>\n",
       "      <td>5704000</td>\n",
       "      <td>710</td>\n",
       "      <td>8033</td>\n",
       "    </tr>\n",
       "    <tr>\n",
       "      <th>1</th>\n",
       "      <td>2</td>\n",
       "      <td>Bangladesh</td>\n",
       "      <td>170800000</td>\n",
       "      <td>143998</td>\n",
       "      <td>1186</td>\n",
       "    </tr>\n",
       "    <tr>\n",
       "      <th>2</th>\n",
       "      <td>3</td>\n",
       "      <td>Lebanon</td>\n",
       "      <td>6856000</td>\n",
       "      <td>10452</td>\n",
       "      <td>656</td>\n",
       "    </tr>\n",
       "    <tr>\n",
       "      <th>3</th>\n",
       "      <td>4</td>\n",
       "      <td>Taiwan</td>\n",
       "      <td>23604000</td>\n",
       "      <td>36193</td>\n",
       "      <td>652</td>\n",
       "    </tr>\n",
       "    <tr>\n",
       "      <th>4</th>\n",
       "      <td>5</td>\n",
       "      <td>South Korea</td>\n",
       "      <td>51781000</td>\n",
       "      <td>99538</td>\n",
       "      <td>520</td>\n",
       "    </tr>\n",
       "    <tr>\n",
       "      <th>5</th>\n",
       "      <td>6</td>\n",
       "      <td>Rwanda</td>\n",
       "      <td>12374000</td>\n",
       "      <td>26338</td>\n",
       "      <td>470</td>\n",
       "    </tr>\n",
       "    <tr>\n",
       "      <th>6</th>\n",
       "      <td>7</td>\n",
       "      <td>Haiti</td>\n",
       "      <td>11578000</td>\n",
       "      <td>27065</td>\n",
       "      <td>428</td>\n",
       "    </tr>\n",
       "    <tr>\n",
       "      <th>7</th>\n",
       "      <td>8</td>\n",
       "      <td>Netherlands</td>\n",
       "      <td>17600000</td>\n",
       "      <td>41526</td>\n",
       "      <td>424</td>\n",
       "    </tr>\n",
       "    <tr>\n",
       "      <th>8</th>\n",
       "      <td>9</td>\n",
       "      <td>Israel</td>\n",
       "      <td>9360000</td>\n",
       "      <td>22072</td>\n",
       "      <td>424</td>\n",
       "    </tr>\n",
       "    <tr>\n",
       "      <th>9</th>\n",
       "      <td>10</td>\n",
       "      <td>India</td>\n",
       "      <td>1377930000</td>\n",
       "      <td>3287240</td>\n",
       "      <td>419</td>\n",
       "    </tr>\n",
       "  </tbody>\n",
       "</table>\n",
       "</div>"
      ],
      "text/plain": [
       "   Rank      Country  Population  Area(km2)  Density(pop/km2)\n",
       "0     1    Singapore     5704000        710              8033\n",
       "1     2   Bangladesh   170800000     143998              1186\n",
       "2     3      Lebanon     6856000      10452               656\n",
       "3     4       Taiwan    23604000      36193               652\n",
       "4     5  South Korea    51781000      99538               520\n",
       "5     6       Rwanda    12374000      26338               470\n",
       "6     7        Haiti    11578000      27065               428\n",
       "7     8  Netherlands    17600000      41526               424\n",
       "8     9       Israel     9360000      22072               424\n",
       "9    10        India  1377930000    3287240               419"
      ]
     },
     "execution_count": 58,
     "metadata": {},
     "output_type": "execute_result"
    }
   ],
   "source": [
    "dataframe_list[5]"
   ]
  },
  {
   "cell_type": "code",
   "execution_count": 59,
   "metadata": {},
   "outputs": [
    {
     "data": {
      "text/html": [
       "<div>\n",
       "<style scoped>\n",
       "    .dataframe tbody tr th:only-of-type {\n",
       "        vertical-align: middle;\n",
       "    }\n",
       "\n",
       "    .dataframe tbody tr th {\n",
       "        vertical-align: top;\n",
       "    }\n",
       "\n",
       "    .dataframe thead th {\n",
       "        text-align: right;\n",
       "    }\n",
       "</style>\n",
       "<table border=\"1\" class=\"dataframe\">\n",
       "  <thead>\n",
       "    <tr style=\"text-align: right;\">\n",
       "      <th></th>\n",
       "      <th>Rank</th>\n",
       "      <th>Country</th>\n",
       "      <th>Population</th>\n",
       "      <th>Area(km2)</th>\n",
       "      <th>Density(pop/km2)</th>\n",
       "    </tr>\n",
       "  </thead>\n",
       "  <tbody>\n",
       "    <tr>\n",
       "      <th>0</th>\n",
       "      <td>1</td>\n",
       "      <td>Singapore</td>\n",
       "      <td>5704000</td>\n",
       "      <td>710</td>\n",
       "      <td>8033</td>\n",
       "    </tr>\n",
       "    <tr>\n",
       "      <th>1</th>\n",
       "      <td>2</td>\n",
       "      <td>Bangladesh</td>\n",
       "      <td>170800000</td>\n",
       "      <td>143998</td>\n",
       "      <td>1186</td>\n",
       "    </tr>\n",
       "    <tr>\n",
       "      <th>2</th>\n",
       "      <td>3</td>\n",
       "      <td>Lebanon</td>\n",
       "      <td>6856000</td>\n",
       "      <td>10452</td>\n",
       "      <td>656</td>\n",
       "    </tr>\n",
       "    <tr>\n",
       "      <th>3</th>\n",
       "      <td>4</td>\n",
       "      <td>Taiwan</td>\n",
       "      <td>23604000</td>\n",
       "      <td>36193</td>\n",
       "      <td>652</td>\n",
       "    </tr>\n",
       "    <tr>\n",
       "      <th>4</th>\n",
       "      <td>5</td>\n",
       "      <td>South Korea</td>\n",
       "      <td>51781000</td>\n",
       "      <td>99538</td>\n",
       "      <td>520</td>\n",
       "    </tr>\n",
       "    <tr>\n",
       "      <th>5</th>\n",
       "      <td>6</td>\n",
       "      <td>Rwanda</td>\n",
       "      <td>12374000</td>\n",
       "      <td>26338</td>\n",
       "      <td>470</td>\n",
       "    </tr>\n",
       "    <tr>\n",
       "      <th>6</th>\n",
       "      <td>7</td>\n",
       "      <td>Haiti</td>\n",
       "      <td>11578000</td>\n",
       "      <td>27065</td>\n",
       "      <td>428</td>\n",
       "    </tr>\n",
       "    <tr>\n",
       "      <th>7</th>\n",
       "      <td>8</td>\n",
       "      <td>Netherlands</td>\n",
       "      <td>17600000</td>\n",
       "      <td>41526</td>\n",
       "      <td>424</td>\n",
       "    </tr>\n",
       "    <tr>\n",
       "      <th>8</th>\n",
       "      <td>9</td>\n",
       "      <td>Israel</td>\n",
       "      <td>9360000</td>\n",
       "      <td>22072</td>\n",
       "      <td>424</td>\n",
       "    </tr>\n",
       "    <tr>\n",
       "      <th>9</th>\n",
       "      <td>10</td>\n",
       "      <td>India</td>\n",
       "      <td>1377930000</td>\n",
       "      <td>3287240</td>\n",
       "      <td>419</td>\n",
       "    </tr>\n",
       "  </tbody>\n",
       "</table>\n",
       "</div>"
      ],
      "text/plain": [
       "   Rank      Country  Population  Area(km2)  Density(pop/km2)\n",
       "0     1    Singapore     5704000        710              8033\n",
       "1     2   Bangladesh   170800000     143998              1186\n",
       "2     3      Lebanon     6856000      10452               656\n",
       "3     4       Taiwan    23604000      36193               652\n",
       "4     5  South Korea    51781000      99538               520\n",
       "5     6       Rwanda    12374000      26338               470\n",
       "6     7        Haiti    11578000      27065               428\n",
       "7     8  Netherlands    17600000      41526               424\n",
       "8     9       Israel     9360000      22072               424\n",
       "9    10        India  1377930000    3287240               419"
      ]
     },
     "execution_count": 59,
     "metadata": {},
     "output_type": "execute_result"
    }
   ],
   "source": [
    "pd.read_html(url, match=\"10 most densely populated countries\", flavor='bs4')[0]"
   ]
  },
  {
   "cell_type": "code",
   "execution_count": null,
   "metadata": {},
   "outputs": [],
   "source": []
  }
 ],
 "metadata": {
  "kernelspec": {
   "display_name": "Python 3",
   "language": "python",
   "name": "python3"
  },
  "language_info": {
   "codemirror_mode": {
    "name": "ipython",
    "version": 3
   },
   "file_extension": ".py",
   "mimetype": "text/x-python",
   "name": "python",
   "nbconvert_exporter": "python",
   "pygments_lexer": "ipython3",
   "version": "3.8.3"
  }
 },
 "nbformat": 4,
 "nbformat_minor": 4
}
